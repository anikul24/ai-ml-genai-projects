{
 "cells": [
  {
   "cell_type": "markdown",
   "id": "41cdbb51",
   "metadata": {},
   "source": [
    "Load libraries"
   ]
  },
  {
   "cell_type": "code",
   "execution_count": 3,
   "id": "e2a42efe",
   "metadata": {},
   "outputs": [],
   "source": [
    "from dotenv import load_dotenv\n",
    "import os\n",
    "import snowflake.connector\n",
    "import pandas as pd\n",
    "import logging\n",
    "import numpy as np\n",
    "\n",
    "import mlflow\n",
    "from mlflow.models import infer_signature"
   ]
  },
  {
   "cell_type": "code",
   "execution_count": 4,
   "id": "a066d40a",
   "metadata": {},
   "outputs": [],
   "source": [
    "## Set mlflow tracking uri\n",
    "\n",
    "mlflow.set_tracking_uri(uri=\"http://127.0.0.1:5000\")"
   ]
  },
  {
   "cell_type": "markdown",
   "id": "f0799426",
   "metadata": {},
   "source": [
    "connect to snowflake"
   ]
  },
  {
   "cell_type": "code",
   "execution_count": 5,
   "id": "cedb6d22",
   "metadata": {},
   "outputs": [
    {
     "name": "stderr",
     "output_type": "stream",
     "text": [
      "C:\\Users\\prach\\AppData\\Local\\Temp\\ipykernel_1396\\2922898121.py:15: UserWarning: pandas only supports SQLAlchemy connectable (engine/connection) or database string URI or sqlite3 DBAPI2 connection. Other DBAPI2 objects are not tested. Please consider using SQLAlchemy.\n",
      "  df = pd.read_sql(query, conn)\n"
     ]
    },
    {
     "data": {
      "text/html": [
       "<div>\n",
       "<style scoped>\n",
       "    .dataframe tbody tr th:only-of-type {\n",
       "        vertical-align: middle;\n",
       "    }\n",
       "\n",
       "    .dataframe tbody tr th {\n",
       "        vertical-align: top;\n",
       "    }\n",
       "\n",
       "    .dataframe thead th {\n",
       "        text-align: right;\n",
       "    }\n",
       "</style>\n",
       "<table border=\"1\" class=\"dataframe\">\n",
       "  <thead>\n",
       "    <tr style=\"text-align: right;\">\n",
       "      <th></th>\n",
       "      <th>CURRENT_ROLE()</th>\n",
       "      <th>CURRENT_WAREHOUSE()</th>\n",
       "      <th>CURRENT_DATABASE()</th>\n",
       "      <th>CURRENT_SCHEMA()</th>\n",
       "    </tr>\n",
       "  </thead>\n",
       "  <tbody>\n",
       "    <tr>\n",
       "      <th>0</th>\n",
       "      <td>CREDIT_RISK_SYSADMIN</td>\n",
       "      <td>CREDIT_RISK_WH</td>\n",
       "      <td>CREDIT_RISK_PREDICTION</td>\n",
       "      <td>CREDIT_DATA</td>\n",
       "    </tr>\n",
       "  </tbody>\n",
       "</table>\n",
       "</div>"
      ],
      "text/plain": [
       "         CURRENT_ROLE() CURRENT_WAREHOUSE()      CURRENT_DATABASE()  \\\n",
       "0  CREDIT_RISK_SYSADMIN      CREDIT_RISK_WH  CREDIT_RISK_PREDICTION   \n",
       "\n",
       "  CURRENT_SCHEMA()  \n",
       "0      CREDIT_DATA  "
      ]
     },
     "execution_count": 5,
     "metadata": {},
     "output_type": "execute_result"
    }
   ],
   "source": [
    "load_dotenv(dotenv_path=\"../cred.env\")\n",
    "\n",
    "conn = snowflake.connector.connect(\n",
    "    user=os.getenv(\"SNOWFLAKE_USER\"),\n",
    "    password=os.getenv(\"SNOWFLAKE_PASSWORD\"),\n",
    "    account=os.getenv(\"SNOWFLAKE_ACCOUNT\"),\n",
    "    warehouse=os.getenv(\"SNOWFLAKE_WH\"),\n",
    "    database=os.getenv(\"SNOWFLAKE_DB\"),\n",
    "    schema=os.getenv(\"SNOWFLAKE_SCHEMA\"),\n",
    "    role=os.getenv(\"SNOWFLAKE_ROLE\")\n",
    ")\n",
    "\n",
    "\n",
    "query = \"SELECT CURRENT_ROLE(), CURRENT_WAREHOUSE(), CURRENT_DATABASE(), CURRENT_SCHEMA();\"\n",
    "df = pd.read_sql(query, conn)\n",
    "df.head()"
   ]
  },
  {
   "cell_type": "markdown",
   "id": "2313410b",
   "metadata": {},
   "source": [
    "Read Training datset\n"
   ]
  },
  {
   "cell_type": "code",
   "execution_count": 6,
   "id": "c6fc9a0f",
   "metadata": {},
   "outputs": [
    {
     "name": "stderr",
     "output_type": "stream",
     "text": [
      "C:\\Users\\prach\\AppData\\Local\\Temp\\ipykernel_1396\\1230699613.py:3: UserWarning: pandas only supports SQLAlchemy connectable (engine/connection) or database string URI or sqlite3 DBAPI2 connection. Other DBAPI2 objects are not tested. Please consider using SQLAlchemy.\n",
      "  train_dataset = pd.read_sql(trn_query, conn)\n"
     ]
    },
    {
     "data": {
      "text/plain": [
       "SRC_DLQ_TWO_YRS                         0\n",
       "RVLV_UTLZ_UNSEC_LINES                   0\n",
       "AGE                                     0\n",
       "NUM_TIMES_PAST_DUE_IN_30_59_DAYS        0\n",
       "DEBT_RATIO                              0\n",
       "MNTHLY_INCOME                       29731\n",
       "NUM_TIMES_OPEN_CRDT_LINES_LOANS         0\n",
       "NUM_TIMES_90_DAYS_LATE                  0\n",
       "NUM_TIMES_REAL_ESTATE_LOAN_LINES        0\n",
       "NUM_TIMES_60_59_DAYS_PAST_DUE           0\n",
       "NUM_DEPEDENTS                        3924\n",
       "dtype: int64"
      ]
     },
     "execution_count": 6,
     "metadata": {},
     "output_type": "execute_result"
    }
   ],
   "source": [
    "trn_query = \"select * from Credit_risk_prediction.credit_data.cs_train\"\n",
    "\n",
    "train_dataset = pd.read_sql(trn_query, conn)\n",
    "\n",
    "train_dataset.head()\n",
    "\n",
    "train_dataset.isna().sum()\n",
    "\n",
    "\n",
    "\n",
    "\n"
   ]
  },
  {
   "cell_type": "code",
   "execution_count": 7,
   "id": "e908e9b3",
   "metadata": {},
   "outputs": [
    {
     "data": {
      "text/plain": [
       "np.int64(609)"
      ]
     },
     "execution_count": 7,
     "metadata": {},
     "output_type": "execute_result"
    }
   ],
   "source": [
    "train_dataset.duplicated().sum()"
   ]
  },
  {
   "cell_type": "code",
   "execution_count": 8,
   "id": "e01f554f",
   "metadata": {},
   "outputs": [
    {
     "data": {
      "text/html": [
       "<div>\n",
       "<style scoped>\n",
       "    .dataframe tbody tr th:only-of-type {\n",
       "        vertical-align: middle;\n",
       "    }\n",
       "\n",
       "    .dataframe tbody tr th {\n",
       "        vertical-align: top;\n",
       "    }\n",
       "\n",
       "    .dataframe thead th {\n",
       "        text-align: right;\n",
       "    }\n",
       "</style>\n",
       "<table border=\"1\" class=\"dataframe\">\n",
       "  <thead>\n",
       "    <tr style=\"text-align: right;\">\n",
       "      <th></th>\n",
       "      <th>SRC_DLQ_TWO_YRS</th>\n",
       "      <th>RVLV_UTLZ_UNSEC_LINES</th>\n",
       "      <th>AGE</th>\n",
       "      <th>NUM_TIMES_PAST_DUE_IN_30_59_DAYS</th>\n",
       "      <th>DEBT_RATIO</th>\n",
       "      <th>MNTHLY_INCOME</th>\n",
       "      <th>NUM_TIMES_OPEN_CRDT_LINES_LOANS</th>\n",
       "      <th>NUM_TIMES_90_DAYS_LATE</th>\n",
       "      <th>NUM_TIMES_REAL_ESTATE_LOAN_LINES</th>\n",
       "      <th>NUM_TIMES_60_59_DAYS_PAST_DUE</th>\n",
       "      <th>NUM_DEPEDENTS</th>\n",
       "    </tr>\n",
       "  </thead>\n",
       "  <tbody>\n",
       "    <tr>\n",
       "      <th>52</th>\n",
       "      <td>0</td>\n",
       "      <td>1.0</td>\n",
       "      <td>62</td>\n",
       "      <td>0</td>\n",
       "      <td>0.0</td>\n",
       "      <td>NaN</td>\n",
       "      <td>1</td>\n",
       "      <td>0</td>\n",
       "      <td>0</td>\n",
       "      <td>0</td>\n",
       "      <td>0.0</td>\n",
       "    </tr>\n",
       "    <tr>\n",
       "      <th>331</th>\n",
       "      <td>0</td>\n",
       "      <td>1.0</td>\n",
       "      <td>29</td>\n",
       "      <td>0</td>\n",
       "      <td>0.0</td>\n",
       "      <td>NaN</td>\n",
       "      <td>0</td>\n",
       "      <td>0</td>\n",
       "      <td>0</td>\n",
       "      <td>0</td>\n",
       "      <td>0.0</td>\n",
       "    </tr>\n",
       "    <tr>\n",
       "      <th>530</th>\n",
       "      <td>0</td>\n",
       "      <td>0.0</td>\n",
       "      <td>82</td>\n",
       "      <td>0</td>\n",
       "      <td>0.0</td>\n",
       "      <td>NaN</td>\n",
       "      <td>3</td>\n",
       "      <td>0</td>\n",
       "      <td>0</td>\n",
       "      <td>0</td>\n",
       "      <td>0.0</td>\n",
       "    </tr>\n",
       "    <tr>\n",
       "      <th>1250</th>\n",
       "      <td>0</td>\n",
       "      <td>0.0</td>\n",
       "      <td>84</td>\n",
       "      <td>0</td>\n",
       "      <td>0.0</td>\n",
       "      <td>NaN</td>\n",
       "      <td>1</td>\n",
       "      <td>0</td>\n",
       "      <td>0</td>\n",
       "      <td>0</td>\n",
       "      <td>0.0</td>\n",
       "    </tr>\n",
       "    <tr>\n",
       "      <th>1669</th>\n",
       "      <td>0</td>\n",
       "      <td>1.0</td>\n",
       "      <td>29</td>\n",
       "      <td>0</td>\n",
       "      <td>0.0</td>\n",
       "      <td>NaN</td>\n",
       "      <td>0</td>\n",
       "      <td>0</td>\n",
       "      <td>0</td>\n",
       "      <td>0</td>\n",
       "      <td>0.0</td>\n",
       "    </tr>\n",
       "    <tr>\n",
       "      <th>...</th>\n",
       "      <td>...</td>\n",
       "      <td>...</td>\n",
       "      <td>...</td>\n",
       "      <td>...</td>\n",
       "      <td>...</td>\n",
       "      <td>...</td>\n",
       "      <td>...</td>\n",
       "      <td>...</td>\n",
       "      <td>...</td>\n",
       "      <td>...</td>\n",
       "      <td>...</td>\n",
       "    </tr>\n",
       "    <tr>\n",
       "      <th>149139</th>\n",
       "      <td>0</td>\n",
       "      <td>0.0</td>\n",
       "      <td>77</td>\n",
       "      <td>0</td>\n",
       "      <td>0.0</td>\n",
       "      <td>NaN</td>\n",
       "      <td>2</td>\n",
       "      <td>0</td>\n",
       "      <td>0</td>\n",
       "      <td>0</td>\n",
       "      <td>0.0</td>\n",
       "    </tr>\n",
       "    <tr>\n",
       "      <th>149431</th>\n",
       "      <td>0</td>\n",
       "      <td>1.0</td>\n",
       "      <td>25</td>\n",
       "      <td>0</td>\n",
       "      <td>0.0</td>\n",
       "      <td>NaN</td>\n",
       "      <td>1</td>\n",
       "      <td>0</td>\n",
       "      <td>0</td>\n",
       "      <td>0</td>\n",
       "      <td>NaN</td>\n",
       "    </tr>\n",
       "    <tr>\n",
       "      <th>149472</th>\n",
       "      <td>0</td>\n",
       "      <td>1.0</td>\n",
       "      <td>84</td>\n",
       "      <td>0</td>\n",
       "      <td>0.0</td>\n",
       "      <td>NaN</td>\n",
       "      <td>1</td>\n",
       "      <td>0</td>\n",
       "      <td>0</td>\n",
       "      <td>0</td>\n",
       "      <td>0.0</td>\n",
       "    </tr>\n",
       "    <tr>\n",
       "      <th>149769</th>\n",
       "      <td>0</td>\n",
       "      <td>1.0</td>\n",
       "      <td>23</td>\n",
       "      <td>98</td>\n",
       "      <td>0.0</td>\n",
       "      <td>NaN</td>\n",
       "      <td>0</td>\n",
       "      <td>98</td>\n",
       "      <td>0</td>\n",
       "      <td>98</td>\n",
       "      <td>NaN</td>\n",
       "    </tr>\n",
       "    <tr>\n",
       "      <th>149993</th>\n",
       "      <td>0</td>\n",
       "      <td>1.0</td>\n",
       "      <td>22</td>\n",
       "      <td>0</td>\n",
       "      <td>0.0</td>\n",
       "      <td>820.0</td>\n",
       "      <td>1</td>\n",
       "      <td>0</td>\n",
       "      <td>0</td>\n",
       "      <td>0</td>\n",
       "      <td>0.0</td>\n",
       "    </tr>\n",
       "  </tbody>\n",
       "</table>\n",
       "<p>960 rows × 11 columns</p>\n",
       "</div>"
      ],
      "text/plain": [
       "        SRC_DLQ_TWO_YRS  RVLV_UTLZ_UNSEC_LINES  AGE  \\\n",
       "52                    0                    1.0   62   \n",
       "331                   0                    1.0   29   \n",
       "530                   0                    0.0   82   \n",
       "1250                  0                    0.0   84   \n",
       "1669                  0                    1.0   29   \n",
       "...                 ...                    ...  ...   \n",
       "149139                0                    0.0   77   \n",
       "149431                0                    1.0   25   \n",
       "149472                0                    1.0   84   \n",
       "149769                0                    1.0   23   \n",
       "149993                0                    1.0   22   \n",
       "\n",
       "        NUM_TIMES_PAST_DUE_IN_30_59_DAYS  DEBT_RATIO  MNTHLY_INCOME  \\\n",
       "52                                     0         0.0            NaN   \n",
       "331                                    0         0.0            NaN   \n",
       "530                                    0         0.0            NaN   \n",
       "1250                                   0         0.0            NaN   \n",
       "1669                                   0         0.0            NaN   \n",
       "...                                  ...         ...            ...   \n",
       "149139                                 0         0.0            NaN   \n",
       "149431                                 0         0.0            NaN   \n",
       "149472                                 0         0.0            NaN   \n",
       "149769                                98         0.0            NaN   \n",
       "149993                                 0         0.0          820.0   \n",
       "\n",
       "        NUM_TIMES_OPEN_CRDT_LINES_LOANS  NUM_TIMES_90_DAYS_LATE  \\\n",
       "52                                    1                       0   \n",
       "331                                   0                       0   \n",
       "530                                   3                       0   \n",
       "1250                                  1                       0   \n",
       "1669                                  0                       0   \n",
       "...                                 ...                     ...   \n",
       "149139                                2                       0   \n",
       "149431                                1                       0   \n",
       "149472                                1                       0   \n",
       "149769                                0                      98   \n",
       "149993                                1                       0   \n",
       "\n",
       "        NUM_TIMES_REAL_ESTATE_LOAN_LINES  NUM_TIMES_60_59_DAYS_PAST_DUE  \\\n",
       "52                                     0                              0   \n",
       "331                                    0                              0   \n",
       "530                                    0                              0   \n",
       "1250                                   0                              0   \n",
       "1669                                   0                              0   \n",
       "...                                  ...                            ...   \n",
       "149139                                 0                              0   \n",
       "149431                                 0                              0   \n",
       "149472                                 0                              0   \n",
       "149769                                 0                             98   \n",
       "149993                                 0                              0   \n",
       "\n",
       "        NUM_DEPEDENTS  \n",
       "52                0.0  \n",
       "331               0.0  \n",
       "530               0.0  \n",
       "1250              0.0  \n",
       "1669              0.0  \n",
       "...               ...  \n",
       "149139            0.0  \n",
       "149431            NaN  \n",
       "149472            0.0  \n",
       "149769            NaN  \n",
       "149993            0.0  \n",
       "\n",
       "[960 rows x 11 columns]"
      ]
     },
     "execution_count": 8,
     "metadata": {},
     "output_type": "execute_result"
    }
   ],
   "source": [
    "train_dataset[train_dataset.duplicated(keep=False)]"
   ]
  },
  {
   "cell_type": "code",
   "execution_count": 9,
   "id": "4f2638ba",
   "metadata": {},
   "outputs": [
    {
     "data": {
      "text/plain": [
       "SRC_DLQ_TWO_YRS                          2\n",
       "RVLV_UTLZ_UNSEC_LINES               125728\n",
       "AGE                                     86\n",
       "NUM_TIMES_PAST_DUE_IN_30_59_DAYS        16\n",
       "DEBT_RATIO                          114194\n",
       "MNTHLY_INCOME                        13594\n",
       "NUM_TIMES_OPEN_CRDT_LINES_LOANS         58\n",
       "NUM_TIMES_90_DAYS_LATE                  19\n",
       "NUM_TIMES_REAL_ESTATE_LOAN_LINES        28\n",
       "NUM_TIMES_60_59_DAYS_PAST_DUE           13\n",
       "NUM_DEPEDENTS                           13\n",
       "dtype: int64"
      ]
     },
     "execution_count": 9,
     "metadata": {},
     "output_type": "execute_result"
    }
   ],
   "source": [
    "train_dataset.nunique()"
   ]
  },
  {
   "cell_type": "code",
   "execution_count": 10,
   "id": "1905f6fa",
   "metadata": {},
   "outputs": [],
   "source": [
    "#train_dataset.drop_duplicates(inplace=True)\n",
    "\n",
    "##keep first occurrence and drop rest of the duplicates\n",
    "\n",
    "train_dataset = train_dataset.drop_duplicates(keep='first').reset_index(drop=True)"
   ]
  },
  {
   "cell_type": "code",
   "execution_count": 11,
   "id": "a2069e73",
   "metadata": {},
   "outputs": [
    {
     "data": {
      "text/plain": [
       "np.int64(0)"
      ]
     },
     "execution_count": 11,
     "metadata": {},
     "output_type": "execute_result"
    }
   ],
   "source": [
    "train_dataset.duplicated().sum()"
   ]
  },
  {
   "cell_type": "code",
   "execution_count": 12,
   "id": "9a7f4679",
   "metadata": {},
   "outputs": [
    {
     "data": {
      "text/html": [
       "<div>\n",
       "<style scoped>\n",
       "    .dataframe tbody tr th:only-of-type {\n",
       "        vertical-align: middle;\n",
       "    }\n",
       "\n",
       "    .dataframe tbody tr th {\n",
       "        vertical-align: top;\n",
       "    }\n",
       "\n",
       "    .dataframe thead th {\n",
       "        text-align: right;\n",
       "    }\n",
       "</style>\n",
       "<table border=\"1\" class=\"dataframe\">\n",
       "  <thead>\n",
       "    <tr style=\"text-align: right;\">\n",
       "      <th></th>\n",
       "      <th>SRC_DLQ_TWO_YRS</th>\n",
       "      <th>RVLV_UTLZ_UNSEC_LINES</th>\n",
       "      <th>AGE</th>\n",
       "      <th>NUM_TIMES_PAST_DUE_IN_30_59_DAYS</th>\n",
       "      <th>DEBT_RATIO</th>\n",
       "      <th>MNTHLY_INCOME</th>\n",
       "      <th>NUM_TIMES_OPEN_CRDT_LINES_LOANS</th>\n",
       "      <th>NUM_TIMES_90_DAYS_LATE</th>\n",
       "      <th>NUM_TIMES_REAL_ESTATE_LOAN_LINES</th>\n",
       "      <th>NUM_TIMES_60_59_DAYS_PAST_DUE</th>\n",
       "      <th>NUM_DEPEDENTS</th>\n",
       "    </tr>\n",
       "  </thead>\n",
       "  <tbody>\n",
       "    <tr>\n",
       "      <th>count</th>\n",
       "      <td>149391.000000</td>\n",
       "      <td>149391.000000</td>\n",
       "      <td>149391.000000</td>\n",
       "      <td>149391.000000</td>\n",
       "      <td>149391.000000</td>\n",
       "      <td>1.201700e+05</td>\n",
       "      <td>149391.000000</td>\n",
       "      <td>149391.000000</td>\n",
       "      <td>149391.000000</td>\n",
       "      <td>149391.000000</td>\n",
       "      <td>145563.000000</td>\n",
       "    </tr>\n",
       "    <tr>\n",
       "      <th>mean</th>\n",
       "      <td>0.066999</td>\n",
       "      <td>6.071087</td>\n",
       "      <td>52.306237</td>\n",
       "      <td>0.393886</td>\n",
       "      <td>354.436740</td>\n",
       "      <td>6.675098e+03</td>\n",
       "      <td>8.480892</td>\n",
       "      <td>0.238120</td>\n",
       "      <td>1.022391</td>\n",
       "      <td>0.212503</td>\n",
       "      <td>0.759863</td>\n",
       "    </tr>\n",
       "    <tr>\n",
       "      <th>std</th>\n",
       "      <td>0.250021</td>\n",
       "      <td>250.263672</td>\n",
       "      <td>14.725962</td>\n",
       "      <td>3.852953</td>\n",
       "      <td>2041.843455</td>\n",
       "      <td>1.438958e+04</td>\n",
       "      <td>5.136515</td>\n",
       "      <td>3.826165</td>\n",
       "      <td>1.130196</td>\n",
       "      <td>3.810523</td>\n",
       "      <td>1.116141</td>\n",
       "    </tr>\n",
       "    <tr>\n",
       "      <th>min</th>\n",
       "      <td>0.000000</td>\n",
       "      <td>0.000000</td>\n",
       "      <td>0.000000</td>\n",
       "      <td>0.000000</td>\n",
       "      <td>0.000000</td>\n",
       "      <td>0.000000e+00</td>\n",
       "      <td>0.000000</td>\n",
       "      <td>0.000000</td>\n",
       "      <td>0.000000</td>\n",
       "      <td>0.000000</td>\n",
       "      <td>0.000000</td>\n",
       "    </tr>\n",
       "    <tr>\n",
       "      <th>25%</th>\n",
       "      <td>0.000000</td>\n",
       "      <td>0.030132</td>\n",
       "      <td>41.000000</td>\n",
       "      <td>0.000000</td>\n",
       "      <td>0.177441</td>\n",
       "      <td>3.400000e+03</td>\n",
       "      <td>5.000000</td>\n",
       "      <td>0.000000</td>\n",
       "      <td>0.000000</td>\n",
       "      <td>0.000000</td>\n",
       "      <td>0.000000</td>\n",
       "    </tr>\n",
       "    <tr>\n",
       "      <th>50%</th>\n",
       "      <td>0.000000</td>\n",
       "      <td>0.154235</td>\n",
       "      <td>52.000000</td>\n",
       "      <td>0.000000</td>\n",
       "      <td>0.368234</td>\n",
       "      <td>5.400000e+03</td>\n",
       "      <td>8.000000</td>\n",
       "      <td>0.000000</td>\n",
       "      <td>1.000000</td>\n",
       "      <td>0.000000</td>\n",
       "      <td>0.000000</td>\n",
       "    </tr>\n",
       "    <tr>\n",
       "      <th>75%</th>\n",
       "      <td>0.000000</td>\n",
       "      <td>0.556494</td>\n",
       "      <td>63.000000</td>\n",
       "      <td>0.000000</td>\n",
       "      <td>0.875279</td>\n",
       "      <td>8.250000e+03</td>\n",
       "      <td>11.000000</td>\n",
       "      <td>0.000000</td>\n",
       "      <td>2.000000</td>\n",
       "      <td>0.000000</td>\n",
       "      <td>1.000000</td>\n",
       "    </tr>\n",
       "    <tr>\n",
       "      <th>max</th>\n",
       "      <td>1.000000</td>\n",
       "      <td>50708.000000</td>\n",
       "      <td>109.000000</td>\n",
       "      <td>98.000000</td>\n",
       "      <td>329664.000000</td>\n",
       "      <td>3.008750e+06</td>\n",
       "      <td>58.000000</td>\n",
       "      <td>98.000000</td>\n",
       "      <td>54.000000</td>\n",
       "      <td>98.000000</td>\n",
       "      <td>20.000000</td>\n",
       "    </tr>\n",
       "  </tbody>\n",
       "</table>\n",
       "</div>"
      ],
      "text/plain": [
       "       SRC_DLQ_TWO_YRS  RVLV_UTLZ_UNSEC_LINES            AGE  \\\n",
       "count    149391.000000          149391.000000  149391.000000   \n",
       "mean          0.066999               6.071087      52.306237   \n",
       "std           0.250021             250.263672      14.725962   \n",
       "min           0.000000               0.000000       0.000000   \n",
       "25%           0.000000               0.030132      41.000000   \n",
       "50%           0.000000               0.154235      52.000000   \n",
       "75%           0.000000               0.556494      63.000000   \n",
       "max           1.000000           50708.000000     109.000000   \n",
       "\n",
       "       NUM_TIMES_PAST_DUE_IN_30_59_DAYS     DEBT_RATIO  MNTHLY_INCOME  \\\n",
       "count                     149391.000000  149391.000000   1.201700e+05   \n",
       "mean                           0.393886     354.436740   6.675098e+03   \n",
       "std                            3.852953    2041.843455   1.438958e+04   \n",
       "min                            0.000000       0.000000   0.000000e+00   \n",
       "25%                            0.000000       0.177441   3.400000e+03   \n",
       "50%                            0.000000       0.368234   5.400000e+03   \n",
       "75%                            0.000000       0.875279   8.250000e+03   \n",
       "max                           98.000000  329664.000000   3.008750e+06   \n",
       "\n",
       "       NUM_TIMES_OPEN_CRDT_LINES_LOANS  NUM_TIMES_90_DAYS_LATE  \\\n",
       "count                    149391.000000           149391.000000   \n",
       "mean                          8.480892                0.238120   \n",
       "std                           5.136515                3.826165   \n",
       "min                           0.000000                0.000000   \n",
       "25%                           5.000000                0.000000   \n",
       "50%                           8.000000                0.000000   \n",
       "75%                          11.000000                0.000000   \n",
       "max                          58.000000               98.000000   \n",
       "\n",
       "       NUM_TIMES_REAL_ESTATE_LOAN_LINES  NUM_TIMES_60_59_DAYS_PAST_DUE  \\\n",
       "count                     149391.000000                  149391.000000   \n",
       "mean                           1.022391                       0.212503   \n",
       "std                            1.130196                       3.810523   \n",
       "min                            0.000000                       0.000000   \n",
       "25%                            0.000000                       0.000000   \n",
       "50%                            1.000000                       0.000000   \n",
       "75%                            2.000000                       0.000000   \n",
       "max                           54.000000                      98.000000   \n",
       "\n",
       "       NUM_DEPEDENTS  \n",
       "count  145563.000000  \n",
       "mean        0.759863  \n",
       "std         1.116141  \n",
       "min         0.000000  \n",
       "25%         0.000000  \n",
       "50%         0.000000  \n",
       "75%         1.000000  \n",
       "max        20.000000  "
      ]
     },
     "execution_count": 12,
     "metadata": {},
     "output_type": "execute_result"
    }
   ],
   "source": [
    "train_dataset.describe()"
   ]
  },
  {
   "cell_type": "code",
   "execution_count": 13,
   "id": "c7223927",
   "metadata": {},
   "outputs": [
    {
     "data": {
      "text/plain": [
       "SRC_DLQ_TWO_YRS                         0\n",
       "RVLV_UTLZ_UNSEC_LINES                   0\n",
       "AGE                                     0\n",
       "NUM_TIMES_PAST_DUE_IN_30_59_DAYS        0\n",
       "DEBT_RATIO                              0\n",
       "MNTHLY_INCOME                       29221\n",
       "NUM_TIMES_OPEN_CRDT_LINES_LOANS         0\n",
       "NUM_TIMES_90_DAYS_LATE                  0\n",
       "NUM_TIMES_REAL_ESTATE_LOAN_LINES        0\n",
       "NUM_TIMES_60_59_DAYS_PAST_DUE           0\n",
       "NUM_DEPEDENTS                        3828\n",
       "dtype: int64"
      ]
     },
     "execution_count": 13,
     "metadata": {},
     "output_type": "execute_result"
    }
   ],
   "source": [
    "train_dataset.isnull().sum()"
   ]
  },
  {
   "cell_type": "markdown",
   "id": "04e1a6ed",
   "metadata": {},
   "source": [
    "Clean all  null values with "
   ]
  },
  {
   "cell_type": "code",
   "execution_count": 14,
   "id": "62183ad5",
   "metadata": {},
   "outputs": [
    {
     "data": {
      "text/html": [
       "<div>\n",
       "<style scoped>\n",
       "    .dataframe tbody tr th:only-of-type {\n",
       "        vertical-align: middle;\n",
       "    }\n",
       "\n",
       "    .dataframe tbody tr th {\n",
       "        vertical-align: top;\n",
       "    }\n",
       "\n",
       "    .dataframe thead th {\n",
       "        text-align: right;\n",
       "    }\n",
       "</style>\n",
       "<table border=\"1\" class=\"dataframe\">\n",
       "  <thead>\n",
       "    <tr style=\"text-align: right;\">\n",
       "      <th></th>\n",
       "      <th>SRC_DLQ_TWO_YRS</th>\n",
       "      <th>RVLV_UTLZ_UNSEC_LINES</th>\n",
       "      <th>AGE</th>\n",
       "      <th>NUM_TIMES_PAST_DUE_IN_30_59_DAYS</th>\n",
       "      <th>DEBT_RATIO</th>\n",
       "      <th>MNTHLY_INCOME</th>\n",
       "      <th>NUM_TIMES_OPEN_CRDT_LINES_LOANS</th>\n",
       "      <th>NUM_TIMES_90_DAYS_LATE</th>\n",
       "      <th>NUM_TIMES_REAL_ESTATE_LOAN_LINES</th>\n",
       "      <th>NUM_TIMES_60_59_DAYS_PAST_DUE</th>\n",
       "      <th>NUM_DEPEDENTS</th>\n",
       "    </tr>\n",
       "  </thead>\n",
       "  <tbody>\n",
       "    <tr>\n",
       "      <th>6</th>\n",
       "      <td>0</td>\n",
       "      <td>0.305682</td>\n",
       "      <td>57</td>\n",
       "      <td>0</td>\n",
       "      <td>5710.0</td>\n",
       "      <td>NaN</td>\n",
       "      <td>8</td>\n",
       "      <td>0</td>\n",
       "      <td>3</td>\n",
       "      <td>0</td>\n",
       "      <td>0.0</td>\n",
       "    </tr>\n",
       "    <tr>\n",
       "      <th>8</th>\n",
       "      <td>0</td>\n",
       "      <td>0.116951</td>\n",
       "      <td>27</td>\n",
       "      <td>0</td>\n",
       "      <td>46.0</td>\n",
       "      <td>NaN</td>\n",
       "      <td>2</td>\n",
       "      <td>0</td>\n",
       "      <td>0</td>\n",
       "      <td>0</td>\n",
       "      <td>NaN</td>\n",
       "    </tr>\n",
       "    <tr>\n",
       "      <th>16</th>\n",
       "      <td>0</td>\n",
       "      <td>0.061086</td>\n",
       "      <td>78</td>\n",
       "      <td>0</td>\n",
       "      <td>2058.0</td>\n",
       "      <td>NaN</td>\n",
       "      <td>10</td>\n",
       "      <td>0</td>\n",
       "      <td>2</td>\n",
       "      <td>0</td>\n",
       "      <td>0.0</td>\n",
       "    </tr>\n",
       "    <tr>\n",
       "      <th>32</th>\n",
       "      <td>0</td>\n",
       "      <td>0.083418</td>\n",
       "      <td>62</td>\n",
       "      <td>0</td>\n",
       "      <td>977.0</td>\n",
       "      <td>NaN</td>\n",
       "      <td>6</td>\n",
       "      <td>0</td>\n",
       "      <td>1</td>\n",
       "      <td>0</td>\n",
       "      <td>0.0</td>\n",
       "    </tr>\n",
       "    <tr>\n",
       "      <th>41</th>\n",
       "      <td>0</td>\n",
       "      <td>0.072898</td>\n",
       "      <td>81</td>\n",
       "      <td>0</td>\n",
       "      <td>75.0</td>\n",
       "      <td>NaN</td>\n",
       "      <td>7</td>\n",
       "      <td>0</td>\n",
       "      <td>0</td>\n",
       "      <td>0</td>\n",
       "      <td>0.0</td>\n",
       "    </tr>\n",
       "    <tr>\n",
       "      <th>...</th>\n",
       "      <td>...</td>\n",
       "      <td>...</td>\n",
       "      <td>...</td>\n",
       "      <td>...</td>\n",
       "      <td>...</td>\n",
       "      <td>...</td>\n",
       "      <td>...</td>\n",
       "      <td>...</td>\n",
       "      <td>...</td>\n",
       "      <td>...</td>\n",
       "      <td>...</td>\n",
       "    </tr>\n",
       "    <tr>\n",
       "      <th>149368</th>\n",
       "      <td>0</td>\n",
       "      <td>0.000627</td>\n",
       "      <td>76</td>\n",
       "      <td>0</td>\n",
       "      <td>60.0</td>\n",
       "      <td>NaN</td>\n",
       "      <td>5</td>\n",
       "      <td>0</td>\n",
       "      <td>0</td>\n",
       "      <td>0</td>\n",
       "      <td>0.0</td>\n",
       "    </tr>\n",
       "    <tr>\n",
       "      <th>149369</th>\n",
       "      <td>0</td>\n",
       "      <td>0.236450</td>\n",
       "      <td>29</td>\n",
       "      <td>0</td>\n",
       "      <td>349.0</td>\n",
       "      <td>NaN</td>\n",
       "      <td>3</td>\n",
       "      <td>0</td>\n",
       "      <td>0</td>\n",
       "      <td>0</td>\n",
       "      <td>0.0</td>\n",
       "    </tr>\n",
       "    <tr>\n",
       "      <th>149376</th>\n",
       "      <td>0</td>\n",
       "      <td>0.037548</td>\n",
       "      <td>84</td>\n",
       "      <td>0</td>\n",
       "      <td>25.0</td>\n",
       "      <td>NaN</td>\n",
       "      <td>5</td>\n",
       "      <td>0</td>\n",
       "      <td>0</td>\n",
       "      <td>0</td>\n",
       "      <td>0.0</td>\n",
       "    </tr>\n",
       "    <tr>\n",
       "      <th>149384</th>\n",
       "      <td>0</td>\n",
       "      <td>0.871976</td>\n",
       "      <td>50</td>\n",
       "      <td>0</td>\n",
       "      <td>4132.0</td>\n",
       "      <td>NaN</td>\n",
       "      <td>11</td>\n",
       "      <td>0</td>\n",
       "      <td>1</td>\n",
       "      <td>0</td>\n",
       "      <td>3.0</td>\n",
       "    </tr>\n",
       "    <tr>\n",
       "      <th>149388</th>\n",
       "      <td>0</td>\n",
       "      <td>0.246044</td>\n",
       "      <td>58</td>\n",
       "      <td>0</td>\n",
       "      <td>3870.0</td>\n",
       "      <td>NaN</td>\n",
       "      <td>18</td>\n",
       "      <td>0</td>\n",
       "      <td>1</td>\n",
       "      <td>0</td>\n",
       "      <td>0.0</td>\n",
       "    </tr>\n",
       "  </tbody>\n",
       "</table>\n",
       "<p>29221 rows × 11 columns</p>\n",
       "</div>"
      ],
      "text/plain": [
       "        SRC_DLQ_TWO_YRS  RVLV_UTLZ_UNSEC_LINES  AGE  \\\n",
       "6                     0               0.305682   57   \n",
       "8                     0               0.116951   27   \n",
       "16                    0               0.061086   78   \n",
       "32                    0               0.083418   62   \n",
       "41                    0               0.072898   81   \n",
       "...                 ...                    ...  ...   \n",
       "149368                0               0.000627   76   \n",
       "149369                0               0.236450   29   \n",
       "149376                0               0.037548   84   \n",
       "149384                0               0.871976   50   \n",
       "149388                0               0.246044   58   \n",
       "\n",
       "        NUM_TIMES_PAST_DUE_IN_30_59_DAYS  DEBT_RATIO  MNTHLY_INCOME  \\\n",
       "6                                      0      5710.0            NaN   \n",
       "8                                      0        46.0            NaN   \n",
       "16                                     0      2058.0            NaN   \n",
       "32                                     0       977.0            NaN   \n",
       "41                                     0        75.0            NaN   \n",
       "...                                  ...         ...            ...   \n",
       "149368                                 0        60.0            NaN   \n",
       "149369                                 0       349.0            NaN   \n",
       "149376                                 0        25.0            NaN   \n",
       "149384                                 0      4132.0            NaN   \n",
       "149388                                 0      3870.0            NaN   \n",
       "\n",
       "        NUM_TIMES_OPEN_CRDT_LINES_LOANS  NUM_TIMES_90_DAYS_LATE  \\\n",
       "6                                     8                       0   \n",
       "8                                     2                       0   \n",
       "16                                   10                       0   \n",
       "32                                    6                       0   \n",
       "41                                    7                       0   \n",
       "...                                 ...                     ...   \n",
       "149368                                5                       0   \n",
       "149369                                3                       0   \n",
       "149376                                5                       0   \n",
       "149384                               11                       0   \n",
       "149388                               18                       0   \n",
       "\n",
       "        NUM_TIMES_REAL_ESTATE_LOAN_LINES  NUM_TIMES_60_59_DAYS_PAST_DUE  \\\n",
       "6                                      3                              0   \n",
       "8                                      0                              0   \n",
       "16                                     2                              0   \n",
       "32                                     1                              0   \n",
       "41                                     0                              0   \n",
       "...                                  ...                            ...   \n",
       "149368                                 0                              0   \n",
       "149369                                 0                              0   \n",
       "149376                                 0                              0   \n",
       "149384                                 1                              0   \n",
       "149388                                 1                              0   \n",
       "\n",
       "        NUM_DEPEDENTS  \n",
       "6                 0.0  \n",
       "8                 NaN  \n",
       "16                0.0  \n",
       "32                0.0  \n",
       "41                0.0  \n",
       "...               ...  \n",
       "149368            0.0  \n",
       "149369            0.0  \n",
       "149376            0.0  \n",
       "149384            3.0  \n",
       "149388            0.0  \n",
       "\n",
       "[29221 rows x 11 columns]"
      ]
     },
     "execution_count": 14,
     "metadata": {},
     "output_type": "execute_result"
    }
   ],
   "source": [
    "import warnings\n",
    "\n",
    "warnings.filterwarnings(\"ignore\")\n",
    "\n",
    "train_dataset[train_dataset.isnull().any(axis=1)]"
   ]
  },
  {
   "cell_type": "markdown",
   "id": "7ea48373",
   "metadata": {},
   "source": [
    "Fill up MonthlyIncome and NumberOfDependents with median values"
   ]
  },
  {
   "cell_type": "code",
   "execution_count": 15,
   "id": "b53f7d77",
   "metadata": {},
   "outputs": [],
   "source": [
    "train_dataset['MNTHLY_INCOME'].fillna(train_dataset['MNTHLY_INCOME'].median(), inplace=True)\n",
    "\n",
    "\n",
    "train_dataset['NUM_DEPEDENTS'].fillna(train_dataset['NUM_DEPEDENTS'].median(), inplace=True)\n",
    "\n",
    "\n"
   ]
  },
  {
   "cell_type": "code",
   "execution_count": 16,
   "id": "f56f7e2f",
   "metadata": {},
   "outputs": [
    {
     "data": {
      "text/plain": [
       "SRC_DLQ_TWO_YRS                     0\n",
       "RVLV_UTLZ_UNSEC_LINES               0\n",
       "AGE                                 0\n",
       "NUM_TIMES_PAST_DUE_IN_30_59_DAYS    0\n",
       "DEBT_RATIO                          0\n",
       "MNTHLY_INCOME                       0\n",
       "NUM_TIMES_OPEN_CRDT_LINES_LOANS     0\n",
       "NUM_TIMES_90_DAYS_LATE              0\n",
       "NUM_TIMES_REAL_ESTATE_LOAN_LINES    0\n",
       "NUM_TIMES_60_59_DAYS_PAST_DUE       0\n",
       "NUM_DEPEDENTS                       0\n",
       "dtype: int64"
      ]
     },
     "execution_count": 16,
     "metadata": {},
     "output_type": "execute_result"
    }
   ],
   "source": [
    "train_dataset.isnull().sum()"
   ]
  },
  {
   "cell_type": "code",
   "execution_count": 17,
   "id": "3b87a97f",
   "metadata": {},
   "outputs": [
    {
     "data": {
      "text/plain": [
       "SRC_DLQ_TWO_YRS\n",
       "0    139382\n",
       "1     10009\n",
       "Name: count, dtype: int64"
      ]
     },
     "execution_count": 17,
     "metadata": {},
     "output_type": "execute_result"
    }
   ],
   "source": [
    "train_dataset['SRC_DLQ_TWO_YRS'].value_counts()"
   ]
  },
  {
   "cell_type": "markdown",
   "id": "53021676",
   "metadata": {},
   "source": [
    "Load data from test dataset"
   ]
  },
  {
   "cell_type": "code",
   "execution_count": null,
   "id": "94d9c014",
   "metadata": {},
   "outputs": [],
   "source": []
  },
  {
   "cell_type": "code",
   "execution_count": 18,
   "id": "1798898d",
   "metadata": {},
   "outputs": [
    {
     "data": {
      "text/plain": [
       "SRC_DLQ_TWO_YRS                     101503\n",
       "RVLV_UTLZ_UNSEC_LINES                    0\n",
       "AGE                                      0\n",
       "NUM_TIMES_PAST_DUE_IN_30_59_DAYS         0\n",
       "DEBT_RATIO                               0\n",
       "MNTHLY_INCOME                        20103\n",
       "NUM_TIMES_OPEN_CRDT_LINES_LOANS          0\n",
       "NUM_TIMES_90_DAYS_LATE                   0\n",
       "NUM_TIMES_REAL_ESTATE_LOAN_LINES         0\n",
       "NUM_TIMES_60_59_DAYS_PAST_DUE            0\n",
       "NUM_DEPEDENTS                         2626\n",
       "dtype: int64"
      ]
     },
     "execution_count": 18,
     "metadata": {},
     "output_type": "execute_result"
    }
   ],
   "source": [
    "test_query = \"select * from Credit_risk_prediction.credit_data.cs_test\"\n",
    "\n",
    "test_dataset = pd.read_sql(test_query, conn)\n",
    "\n",
    "test_dataset.head()\n",
    "\n",
    "test_dataset.isna().sum()\n"
   ]
  },
  {
   "cell_type": "code",
   "execution_count": 19,
   "id": "4aa0cb91",
   "metadata": {},
   "outputs": [
    {
     "data": {
      "text/plain": [
       "SRC_DLQ_TWO_YRS                     101503\n",
       "RVLV_UTLZ_UNSEC_LINES                    0\n",
       "AGE                                      0\n",
       "NUM_TIMES_PAST_DUE_IN_30_59_DAYS         0\n",
       "DEBT_RATIO                               0\n",
       "MNTHLY_INCOME                        20103\n",
       "NUM_TIMES_OPEN_CRDT_LINES_LOANS          0\n",
       "NUM_TIMES_90_DAYS_LATE                   0\n",
       "NUM_TIMES_REAL_ESTATE_LOAN_LINES         0\n",
       "NUM_TIMES_60_59_DAYS_PAST_DUE            0\n",
       "NUM_DEPEDENTS                         2626\n",
       "dtype: int64"
      ]
     },
     "execution_count": 19,
     "metadata": {},
     "output_type": "execute_result"
    }
   ],
   "source": [
    "test_dataset.isnull().sum()"
   ]
  },
  {
   "cell_type": "code",
   "execution_count": 20,
   "id": "c78ea092",
   "metadata": {},
   "outputs": [
    {
     "data": {
      "text/plain": [
       "np.int64(328)"
      ]
     },
     "execution_count": 20,
     "metadata": {},
     "output_type": "execute_result"
    }
   ],
   "source": [
    "test_dataset.duplicated().sum()"
   ]
  },
  {
   "cell_type": "code",
   "execution_count": 21,
   "id": "2ca80dec",
   "metadata": {},
   "outputs": [],
   "source": [
    "##keep first copy of duplicate rows\n",
    "\n",
    "test_dataset = test_dataset.drop_duplicates(keep='first').reset_index(drop=True)"
   ]
  },
  {
   "cell_type": "code",
   "execution_count": 22,
   "id": "72e22505",
   "metadata": {},
   "outputs": [
    {
     "data": {
      "text/plain": [
       "np.int64(0)"
      ]
     },
     "execution_count": 22,
     "metadata": {},
     "output_type": "execute_result"
    }
   ],
   "source": [
    "test_dataset.duplicated().sum()"
   ]
  },
  {
   "cell_type": "code",
   "execution_count": 23,
   "id": "ae2a20d6",
   "metadata": {},
   "outputs": [
    {
     "data": {
      "text/plain": [
       "(101175, 11)"
      ]
     },
     "execution_count": 23,
     "metadata": {},
     "output_type": "execute_result"
    }
   ],
   "source": [
    "test_dataset.shape"
   ]
  },
  {
   "cell_type": "code",
   "execution_count": 24,
   "id": "5e64cd93",
   "metadata": {},
   "outputs": [
    {
     "data": {
      "text/plain": [
       "SRC_DLQ_TWO_YRS                     101175\n",
       "RVLV_UTLZ_UNSEC_LINES                    0\n",
       "AGE                                      0\n",
       "NUM_TIMES_PAST_DUE_IN_30_59_DAYS         0\n",
       "DEBT_RATIO                               0\n",
       "MNTHLY_INCOME                        19826\n",
       "NUM_TIMES_OPEN_CRDT_LINES_LOANS          0\n",
       "NUM_TIMES_90_DAYS_LATE                   0\n",
       "NUM_TIMES_REAL_ESTATE_LOAN_LINES         0\n",
       "NUM_TIMES_60_59_DAYS_PAST_DUE            0\n",
       "NUM_DEPEDENTS                         2566\n",
       "dtype: int64"
      ]
     },
     "execution_count": 24,
     "metadata": {},
     "output_type": "execute_result"
    }
   ],
   "source": [
    "test_dataset.isnull().sum()"
   ]
  },
  {
   "cell_type": "code",
   "execution_count": 25,
   "id": "a93fe40f",
   "metadata": {},
   "outputs": [],
   "source": [
    "test_dataset['MNTHLY_INCOME'].fillna(test_dataset['MNTHLY_INCOME'].median(), inplace=True)\n",
    "\n",
    "test_dataset['NUM_DEPEDENTS'].fillna(test_dataset['NUM_DEPEDENTS'].median(), inplace=True)\n",
    "\n"
   ]
  },
  {
   "cell_type": "code",
   "execution_count": 26,
   "id": "36d96bc2",
   "metadata": {},
   "outputs": [
    {
     "data": {
      "text/plain": [
       "SRC_DLQ_TWO_YRS                     101175\n",
       "RVLV_UTLZ_UNSEC_LINES                    0\n",
       "AGE                                      0\n",
       "NUM_TIMES_PAST_DUE_IN_30_59_DAYS         0\n",
       "DEBT_RATIO                               0\n",
       "MNTHLY_INCOME                            0\n",
       "NUM_TIMES_OPEN_CRDT_LINES_LOANS          0\n",
       "NUM_TIMES_90_DAYS_LATE                   0\n",
       "NUM_TIMES_REAL_ESTATE_LOAN_LINES         0\n",
       "NUM_TIMES_60_59_DAYS_PAST_DUE            0\n",
       "NUM_DEPEDENTS                            0\n",
       "dtype: int64"
      ]
     },
     "execution_count": 26,
     "metadata": {},
     "output_type": "execute_result"
    }
   ],
   "source": [
    "test_dataset.isnull().sum()"
   ]
  },
  {
   "cell_type": "code",
   "execution_count": 27,
   "id": "f24fa824",
   "metadata": {},
   "outputs": [],
   "source": [
    "#train data input and output split\n",
    "\n",
    "X = train_dataset.drop(columns=['SRC_DLQ_TWO_YRS'], axis=1)\n",
    "y = train_dataset['SRC_DLQ_TWO_YRS']\n",
    "\n",
    "# X_test = test_dataset.drop(columns=['SRC_DLQ_TWO_YRS'], axis=1)\n",
    "# y_test = test_dataset['SRC_DLQ_TWO_YRS']"
   ]
  },
  {
   "cell_type": "code",
   "execution_count": 28,
   "id": "e8979acb",
   "metadata": {},
   "outputs": [
    {
     "data": {
      "text/plain": [
       "((119512, 10), (29879, 10), (119512,), (29879,))"
      ]
     },
     "execution_count": 28,
     "metadata": {},
     "output_type": "execute_result"
    }
   ],
   "source": [
    "## Train test split\n",
    "from sklearn.model_selection import train_test_split\n",
    "X_train, X_val, y_train, y_val = train_test_split(X, y, test_size=0.2, random_state=42, stratify=y)\n",
    "\n",
    "X_train.shape, X_val.shape, y_train.shape, y_val.shape"
   ]
  },
  {
   "cell_type": "code",
   "execution_count": 29,
   "id": "83458ad8",
   "metadata": {},
   "outputs": [
    {
     "name": "stdout",
     "output_type": "stream",
     "text": [
      "<class 'pandas.core.frame.DataFrame'>\n",
      "Index: 119512 entries, 33137 to 94923\n",
      "Data columns (total 10 columns):\n",
      " #   Column                            Non-Null Count   Dtype  \n",
      "---  ------                            --------------   -----  \n",
      " 0   RVLV_UTLZ_UNSEC_LINES             119512 non-null  float64\n",
      " 1   AGE                               119512 non-null  int64  \n",
      " 2   NUM_TIMES_PAST_DUE_IN_30_59_DAYS  119512 non-null  int64  \n",
      " 3   DEBT_RATIO                        119512 non-null  float64\n",
      " 4   MNTHLY_INCOME                     119512 non-null  float64\n",
      " 5   NUM_TIMES_OPEN_CRDT_LINES_LOANS   119512 non-null  int64  \n",
      " 6   NUM_TIMES_90_DAYS_LATE            119512 non-null  int64  \n",
      " 7   NUM_TIMES_REAL_ESTATE_LOAN_LINES  119512 non-null  int64  \n",
      " 8   NUM_TIMES_60_59_DAYS_PAST_DUE     119512 non-null  int64  \n",
      " 9   NUM_DEPEDENTS                     119512 non-null  float64\n",
      "dtypes: float64(4), int64(6)\n",
      "memory usage: 10.0 MB\n"
     ]
    }
   ],
   "source": [
    "X_train.info()"
   ]
  },
  {
   "cell_type": "code",
   "execution_count": 30,
   "id": "49b69abe",
   "metadata": {},
   "outputs": [
    {
     "data": {
      "text/html": [
       "<div>\n",
       "<style scoped>\n",
       "    .dataframe tbody tr th:only-of-type {\n",
       "        vertical-align: middle;\n",
       "    }\n",
       "\n",
       "    .dataframe tbody tr th {\n",
       "        vertical-align: top;\n",
       "    }\n",
       "\n",
       "    .dataframe thead th {\n",
       "        text-align: right;\n",
       "    }\n",
       "</style>\n",
       "<table border=\"1\" class=\"dataframe\">\n",
       "  <thead>\n",
       "    <tr style=\"text-align: right;\">\n",
       "      <th></th>\n",
       "      <th>RVLV_UTLZ_UNSEC_LINES</th>\n",
       "      <th>AGE</th>\n",
       "      <th>NUM_TIMES_PAST_DUE_IN_30_59_DAYS</th>\n",
       "      <th>DEBT_RATIO</th>\n",
       "      <th>MNTHLY_INCOME</th>\n",
       "      <th>NUM_TIMES_OPEN_CRDT_LINES_LOANS</th>\n",
       "      <th>NUM_TIMES_90_DAYS_LATE</th>\n",
       "      <th>NUM_TIMES_REAL_ESTATE_LOAN_LINES</th>\n",
       "      <th>NUM_TIMES_60_59_DAYS_PAST_DUE</th>\n",
       "      <th>NUM_DEPEDENTS</th>\n",
       "    </tr>\n",
       "  </thead>\n",
       "  <tbody>\n",
       "    <tr>\n",
       "      <th>33137</th>\n",
       "      <td>0.628651</td>\n",
       "      <td>65</td>\n",
       "      <td>0</td>\n",
       "      <td>1827.000000</td>\n",
       "      <td>5400.0</td>\n",
       "      <td>9</td>\n",
       "      <td>0</td>\n",
       "      <td>0</td>\n",
       "      <td>0</td>\n",
       "      <td>0.0</td>\n",
       "    </tr>\n",
       "    <tr>\n",
       "      <th>106046</th>\n",
       "      <td>0.011567</td>\n",
       "      <td>80</td>\n",
       "      <td>0</td>\n",
       "      <td>1.704319</td>\n",
       "      <td>300.0</td>\n",
       "      <td>10</td>\n",
       "      <td>0</td>\n",
       "      <td>0</td>\n",
       "      <td>0</td>\n",
       "      <td>0.0</td>\n",
       "    </tr>\n",
       "    <tr>\n",
       "      <th>13751</th>\n",
       "      <td>0.131268</td>\n",
       "      <td>79</td>\n",
       "      <td>0</td>\n",
       "      <td>0.343137</td>\n",
       "      <td>8363.0</td>\n",
       "      <td>5</td>\n",
       "      <td>0</td>\n",
       "      <td>2</td>\n",
       "      <td>0</td>\n",
       "      <td>0.0</td>\n",
       "    </tr>\n",
       "    <tr>\n",
       "      <th>72006</th>\n",
       "      <td>1.000000</td>\n",
       "      <td>27</td>\n",
       "      <td>0</td>\n",
       "      <td>0.189684</td>\n",
       "      <td>3605.0</td>\n",
       "      <td>5</td>\n",
       "      <td>0</td>\n",
       "      <td>0</td>\n",
       "      <td>0</td>\n",
       "      <td>0.0</td>\n",
       "    </tr>\n",
       "    <tr>\n",
       "      <th>53011</th>\n",
       "      <td>0.115464</td>\n",
       "      <td>67</td>\n",
       "      <td>0</td>\n",
       "      <td>0.360104</td>\n",
       "      <td>3062.0</td>\n",
       "      <td>15</td>\n",
       "      <td>0</td>\n",
       "      <td>1</td>\n",
       "      <td>0</td>\n",
       "      <td>0.0</td>\n",
       "    </tr>\n",
       "  </tbody>\n",
       "</table>\n",
       "</div>"
      ],
      "text/plain": [
       "        RVLV_UTLZ_UNSEC_LINES  AGE  NUM_TIMES_PAST_DUE_IN_30_59_DAYS  \\\n",
       "33137                0.628651   65                                 0   \n",
       "106046               0.011567   80                                 0   \n",
       "13751                0.131268   79                                 0   \n",
       "72006                1.000000   27                                 0   \n",
       "53011                0.115464   67                                 0   \n",
       "\n",
       "         DEBT_RATIO  MNTHLY_INCOME  NUM_TIMES_OPEN_CRDT_LINES_LOANS  \\\n",
       "33137   1827.000000         5400.0                                9   \n",
       "106046     1.704319          300.0                               10   \n",
       "13751      0.343137         8363.0                                5   \n",
       "72006      0.189684         3605.0                                5   \n",
       "53011      0.360104         3062.0                               15   \n",
       "\n",
       "        NUM_TIMES_90_DAYS_LATE  NUM_TIMES_REAL_ESTATE_LOAN_LINES  \\\n",
       "33137                        0                                 0   \n",
       "106046                       0                                 0   \n",
       "13751                        0                                 2   \n",
       "72006                        0                                 0   \n",
       "53011                        0                                 1   \n",
       "\n",
       "        NUM_TIMES_60_59_DAYS_PAST_DUE  NUM_DEPEDENTS  \n",
       "33137                               0            0.0  \n",
       "106046                              0            0.0  \n",
       "13751                               0            0.0  \n",
       "72006                               0            0.0  \n",
       "53011                               0            0.0  "
      ]
     },
     "execution_count": 30,
     "metadata": {},
     "output_type": "execute_result"
    }
   ],
   "source": [
    "X_train.head()"
   ]
  },
  {
   "cell_type": "markdown",
   "id": "11ca0296",
   "metadata": {},
   "source": [
    "Feature scaling"
   ]
  },
  {
   "cell_type": "code",
   "execution_count": 31,
   "id": "3ffcad74",
   "metadata": {},
   "outputs": [],
   "source": [
    "## scaling for numeric columns for NON distance based algorithms\n",
    "\n",
    "from sklearn.preprocessing import StandardScaler\n",
    "\n",
    "scaler = StandardScaler()\n",
    "X_train_scaled = scaler.fit_transform(X_train)\n",
    "X_val_scaled = scaler.transform(X_val)\n",
    "\n",
    "from imblearn.over_sampling import SMOTE ## to make model learn from minority class\n",
    "from imblearn.under_sampling import RandomUnderSampler\n",
    "\n",
    "smote = SMOTE(random_state=42)\n",
    "X_train_scaled_res, y_train_res = smote.fit_resample(X_train_scaled, y_train)\n",
    "\n",
    "\n",
    "X_train_res, y_train_res = smote.fit_resample(X_train, y_train)\n",
    "\n"
   ]
  },
  {
   "cell_type": "code",
   "execution_count": 32,
   "id": "0d9689fb",
   "metadata": {},
   "outputs": [
    {
     "data": {
      "text/plain": [
       "Index(['SRC_DLQ_TWO_YRS', 'RVLV_UTLZ_UNSEC_LINES', 'AGE',\n",
       "       'NUM_TIMES_PAST_DUE_IN_30_59_DAYS', 'DEBT_RATIO', 'MNTHLY_INCOME',\n",
       "       'NUM_TIMES_OPEN_CRDT_LINES_LOANS', 'NUM_TIMES_90_DAYS_LATE',\n",
       "       'NUM_TIMES_REAL_ESTATE_LOAN_LINES', 'NUM_TIMES_60_59_DAYS_PAST_DUE',\n",
       "       'NUM_DEPEDENTS'],\n",
       "      dtype='object')"
      ]
     },
     "execution_count": 32,
     "metadata": {},
     "output_type": "execute_result"
    }
   ],
   "source": [
    "#train_dataset.corr()\n",
    "\n",
    "train_dataset.corr().columns"
   ]
  },
  {
   "cell_type": "code",
   "execution_count": 33,
   "id": "2b64bc70",
   "metadata": {},
   "outputs": [],
   "source": [
    "corr_matrix= train_dataset.corr()\n",
    "\n",
    "\t\t"
   ]
  },
  {
   "cell_type": "code",
   "execution_count": 34,
   "id": "bb14828e",
   "metadata": {},
   "outputs": [
    {
     "data": {
      "text/plain": [
       "<Axes: >"
      ]
     },
     "execution_count": 34,
     "metadata": {},
     "output_type": "execute_result"
    },
    {
     "data": {
      "image/png": "[encoded data removed]",
      "text/plain": [
       "<Figure size 640x480 with 2 Axes>"
      ]
     },
     "metadata": {},
     "output_type": "display_data"
    }
   ],
   "source": [
    "import seaborn as sns\n",
    "\n",
    "sns.heatmap(train_dataset.corr(), annot=True, fmt=\".2f\")"
   ]
  },
  {
   "cell_type": "code",
   "execution_count": 35,
   "id": "e2602394",
   "metadata": {},
   "outputs": [],
   "source": [
    "##evaluate function for classification models\n",
    "\n",
    "from sklearn.metrics import accuracy_score, precision_score, recall_score, f1_score\n",
    "\n",
    "\n",
    "# For classification models\n",
    "def evaluate_classification_model(y_true, y_pred):\n",
    "    accuracy = accuracy_score(y_true, y_pred)\n",
    "    precision = precision_score(y_true, y_pred)\n",
    "    recall = recall_score(y_true, y_pred)\n",
    "    f1 = f1_score(y_true, y_pred)\n",
    "    return accuracy, precision, recall, f1\n"
   ]
  },
  {
   "cell_type": "code",
   "execution_count": 36,
   "id": "cb1e2d5d",
   "metadata": {},
   "outputs": [
    {
     "name": "stdout",
     "output_type": "stream",
     "text": [
      "<class 'dict'>\n",
      "Training and evaluating: Logistic Regression\n",
      "Time take by model  Logistic Regression executed in: 0.09 minutes\n",
      "=======================================================\n",
      "\n",
      "\n",
      "Training and evaluating: Ridge Classifier\n",
      "Time take by model  Ridge Classifier executed in: 0.01 minutes\n",
      "=======================================================\n",
      "\n",
      "\n",
      "Training and evaluating: GradientBoosting Classifier\n",
      "Time take by model  GradientBoosting Classifier executed in: 1.45 minutes\n",
      "=======================================================\n",
      "\n",
      "\n",
      "Training and evaluating: AdaBoost Classifier\n",
      "Time take by model  AdaBoost Classifier executed in: 0.27 minutes\n",
      "=======================================================\n",
      "\n",
      "\n",
      "                             Accuracy  Precision    Recall  F1 Score\n",
      "AdaBoost Classifier          0.789150   0.193875  0.679820  0.301707\n",
      "Logistic Regression          0.774859   0.181303  0.671329  0.285502\n",
      "Ridge Classifier             0.643562   0.112892  0.629870  0.191467\n",
      "GradientBoosting Classifier  0.865089   0.266621  0.578921  0.365097\n"
     ]
    }
   ],
   "source": [
    "\n",
    "from sklearn.model_selection import train_test_split, GridSearchCV,RandomizedSearchCV\n",
    "from sklearn.linear_model import LogisticRegression, RidgeClassifier, SGDClassifier\n",
    "from sklearn.neighbors import KNeighborsClassifier\n",
    "from sklearn.tree import DecisionTreeClassifier\n",
    "from sklearn.ensemble import RandomForestClassifier, GradientBoostingClassifier, AdaBoostClassifier\n",
    "from xgboost import XGBClassifier\n",
    "from catboost import CatBoostClassifier\n",
    "import time\n",
    "\n",
    "\n",
    "from sklearn.compose import ColumnTransformer\n",
    "\n",
    "\n",
    "##commenting other models after evaluating scores\n",
    "\n",
    "liner_models = {\n",
    "    \"Logistic Regression\": LogisticRegression(),\n",
    "    \"Ridge Classifier\": RidgeClassifier(),\n",
    "    #\"SGD Classifier\": SGDClassifier(),\n",
    "    #\"K-Neighbors Classifier\": KNeighborsClassifier()\n",
    "\n",
    "}\n",
    "\n",
    "tree_models = {\n",
    "    #\"Decision Tree\": DecisionTreeClassifier(),\n",
    "    #\"Random Forest Classifier\": RandomForestClassifier(),\n",
    "    \"GradientBoosting Classifier\": GradientBoostingClassifier(), \n",
    "    #\"XGBClassifier\": XGBClassifier(),\n",
    "    #\"CatBoosting Classifier\": CatBoostClassifier(verbose=False),\n",
    "    \"AdaBoost Classifier\": AdaBoostClassifier()\n",
    "}\n",
    "\n",
    "models = {**liner_models, **tree_models}\n",
    "\n",
    "print(type(models))\n",
    "\n",
    "# Function to train and evaluate models\n",
    "results = {}\n",
    "for name, model in models.items():\n",
    "    print(f\"Training and evaluating: {name}\")\n",
    "    start_time = time.perf_counter()\n",
    "\n",
    "    if name in [\"Logistic Regression\", \"Ridge Classifier\", \"SGD Classifier\", \"K-Neighbors Classifier\"]:\n",
    "        model.fit(X_train_scaled_res, y_train_res)\n",
    "        y_pred = model.predict(X_val_scaled)\n",
    "    elif name in [\"Decision Tree\", \"Random Forest Classifier\", \"GradientBoosting Classifier\", \"CatBoosting Classifier\", \"AdaBoost Classifier\",\"XGBClassifier\"]:\n",
    "        model.fit(X_train_res, y_train_res)\n",
    "        y_pred = model.predict(X_val)\n",
    "    \n",
    "    accuracy, precision, recall, f1 = evaluate_classification_model(y_val, y_pred)\n",
    "    #print(f\"{name} - Recall: {recall:.4f}, F1 Score: {f1:.4f},  Accuracy: {accuracy:.4f}, Precision: {precision:.4f}\")\n",
    "\n",
    "    results[name] = {\n",
    "        \"Accuracy\": accuracy,\n",
    "        \"Precision\": precision,\n",
    "        \"Recall\": recall,\n",
    "        \"F1 Score\": f1\n",
    "    }\n",
    "    end_time = time.perf_counter()\n",
    "\n",
    "    elapsed_time = (end_time - start_time)/60\n",
    "\n",
    "    print(f\"Time take by model  {name} executed in: {elapsed_time:.2f} minutes\")\n",
    "\n",
    "    print('='*55)\n",
    "    print('\\n')\n",
    "\n",
    "\n",
    "df_results = pd.DataFrame.from_dict(results, orient='index')\n",
    "\n",
    "\n",
    "df_sorted = df_results.sort_values(by='Recall', ascending=False)\n",
    "\n",
    "print(df_sorted)\n"
   ]
  },
  {
   "cell_type": "markdown",
   "id": "bf46a170",
   "metadata": {},
   "source": [
    "                   Accuracy  Precision    Recall  F1 Score\n",
    "                             \n",
    "AdaBoost Classifier          0.789150   0.193875    0.679820    0.301707<br>\n",
    "Logistic Regression          0.774859   0.181303  0.671329  0.285502<br>\n",
    "Ridge Classifier             0.643562   0.112892  0.629870  0.191467<br>\n",
    "GradientBoosting Classifier  0.865089   0.266621  0.578921  0.365097<br>\n",
    "SGD Classifier               0.892968   0.317683  0.520480  0.394548<br>\n",
    "K-Neighbors Classifier       0.815422   0.181851  0.501499  0.266915<br>\n",
    "XGBClassifier                0.875230   0.268260  0.499001  0.348935<br>\n",
    "CatBoosting Classifier       0.881087   0.275932  0.477023  0.349625<br>\n",
    "Random Forest Classifier     0.890090   0.291341  0.447053  0.352779<br>\n",
    "Decision Tree                0.834031   0.179215  0.412587  0.249887<br>\n"
   ]
  },
  {
   "cell_type": "markdown",
   "id": "30610f6b",
   "metadata": {},
   "source": [
    "Hyperparameter tuning\n",
    "\n",
    "observations :- the SRC_DLQ_TWO_YRS (depedent feature ) has imbalanced data , thats why used undersampling SMOTE, this increased recall but traded off precision. In credit predictions Recall ( reduce FN ) is important than precision ( reduce FP)\n",
    "\n",
    "best models to perfrom ( contender for tuning)\n",
    "\n",
    "AdaBoost Classifier        \n",
    "Logistic Regression        \n",
    "GradientBoosting Classifier\n",
    "SGD Classifier             \n"
   ]
  },
  {
   "cell_type": "code",
   "execution_count": 43,
   "id": "7f221657",
   "metadata": {},
   "outputs": [
    {
     "name": "stderr",
     "output_type": "stream",
     "text": [
      "2025/10/16 21:21:27 INFO mlflow.utils.autologging_utils: Created MLflow autologging run with ID '4e35183a184c4a1a9b3082bca1b9c100', which will track hyperparameters, performance metrics, model artifacts, and lineage information for the current sklearn workflow\n",
      "2025/10/16 21:21:27 WARNING mlflow.sklearn: Failed to log training dataset information to MLflow Tracking. Reason: 'Series' object has no attribute 'flatten'\n"
     ]
    },
    {
     "name": "stdout",
     "output_type": "stream",
     "text": [
      "Hyperparam Tuning for: Logistic Regression\n",
      "n_iterations: 3\n",
      "n_required_iterations: 3\n",
      "n_possible_iterations: 3\n",
      "min_resources_: 24778\n",
      "max_resources_: 223010\n",
      "aggressive_elimination: False\n",
      "factor: 3\n",
      "----------\n",
      "iter: 0\n",
      "n_candidates: 20\n",
      "n_resources: 24778\n",
      "Fitting 3 folds for each of 20 candidates, totalling 60 fits\n",
      "----------\n",
      "iter: 1\n",
      "n_candidates: 7\n",
      "n_resources: 74334\n",
      "Fitting 3 folds for each of 7 candidates, totalling 21 fits\n",
      "----------\n",
      "iter: 2\n",
      "n_candidates: 3\n",
      "n_resources: 223002\n",
      "Fitting 3 folds for each of 3 candidates, totalling 9 fits\n"
     ]
    },
    {
     "name": "stderr",
     "output_type": "stream",
     "text": [
      "2025/10/16 21:21:47 INFO mlflow.utils.autologging_utils: Created MLflow autologging run with ID 'ec0a7f2d1bb74bdcb4f7366ec28151eb', which will track hyperparameters, performance metrics, model artifacts, and lineage information for the current sklearn workflow\n",
      "2025/10/16 21:21:47 WARNING mlflow.sklearn: Failed to log training dataset information to MLflow Tracking. Reason: 'Series' object has no attribute 'flatten'\n"
     ]
    },
    {
     "name": "stdout",
     "output_type": "stream",
     "text": [
      "🏃 View run smiling-conch-881 at: http://127.0.0.1:5000/#/experiments/900997911555713321/runs/4e35183a184c4a1a9b3082bca1b9c100\n",
      "🧪 View experiment at: http://127.0.0.1:5000/#/experiments/900997911555713321\n",
      "-------------fitted_model---------: LogisticRegression(C=10, max_iter=1000, penalty='l1', solver='liblinear')\n",
      "🏃 View run debonair-bird-511 at: http://127.0.0.1:5000/#/experiments/900997911555713321/runs/ec0a7f2d1bb74bdcb4f7366ec28151eb\n",
      "🧪 View experiment at: http://127.0.0.1:5000/#/experiments/900997911555713321\n",
      "Logistic Regression hyper param tuning completed\n",
      "Logistic Regression - Recall: 0.8871, F1 Score: 0.1819,  Accuracy: 0.4655, Precision: 0.1014, roc_score: 0.6612\n",
      "------------------------------------------------------------\n",
      "Logistic Regression - best_params_: {'solver': 'liblinear', 'penalty': 'l1', 'max_iter': 1000, 'class_weight': None, 'C': 10}\n",
      "Time take by model  Logistic Regression executed in: 0.52 minutes\n",
      "======================================================================================================================================================\n",
      "\n",
      "\n",
      "Hyperparam Tuning for: GradientBoosting Classifier\n"
     ]
    },
    {
     "name": "stderr",
     "output_type": "stream",
     "text": [
      "2025/10/16 21:21:59 INFO mlflow.utils.autologging_utils: Created MLflow autologging run with ID '114fae26894449a78e3446a59db69e9f', which will track hyperparameters, performance metrics, model artifacts, and lineage information for the current sklearn workflow\n"
     ]
    },
    {
     "name": "stdout",
     "output_type": "stream",
     "text": [
      "n_iterations: 3\n",
      "n_required_iterations: 3\n",
      "n_possible_iterations: 3\n",
      "min_resources_: 13279\n",
      "max_resources_: 119512\n",
      "aggressive_elimination: False\n",
      "factor: 3\n",
      "----------\n",
      "iter: 0\n",
      "n_candidates: 20\n",
      "n_resources: 13279\n",
      "Fitting 3 folds for each of 20 candidates, totalling 60 fits\n",
      "----------\n",
      "iter: 1\n",
      "n_candidates: 7\n",
      "n_resources: 39837\n",
      "Fitting 3 folds for each of 7 candidates, totalling 21 fits\n",
      "----------\n",
      "iter: 2\n",
      "n_candidates: 3\n",
      "n_resources: 119511\n",
      "Fitting 3 folds for each of 3 candidates, totalling 9 fits\n"
     ]
    },
    {
     "name": "stderr",
     "output_type": "stream",
     "text": [
      "2025/10/16 21:27:43 INFO mlflow.utils.autologging_utils: Created MLflow autologging run with ID '3af8246d04524a94afec1f259bd39af2', which will track hyperparameters, performance metrics, model artifacts, and lineage information for the current sklearn workflow\n"
     ]
    },
    {
     "name": "stdout",
     "output_type": "stream",
     "text": [
      "🏃 View run fun-goat-457 at: http://127.0.0.1:5000/#/experiments/900997911555713321/runs/114fae26894449a78e3446a59db69e9f\n",
      "🧪 View experiment at: http://127.0.0.1:5000/#/experiments/900997911555713321\n",
      "🏃 View run whimsical-deer-179 at: http://127.0.0.1:5000/#/experiments/900997911555713321/runs/3af8246d04524a94afec1f259bd39af2\n",
      "🧪 View experiment at: http://127.0.0.1:5000/#/experiments/900997911555713321\n",
      "GradientBoosting Classifier hyper param tuning completed\n",
      "GradientBoosting Classifier - Recall: 0.8112, F1 Score: 0.2717,  Accuracy: 0.7086, Precision: 0.1632, roc_score: 0.7562\n",
      "------------------------------------------------------------\n",
      "GradientBoosting Classifier - best_params_: {'subsample': 0.8, 'n_estimators': 100, 'min_samples_split': 5, 'max_depth': 3, 'learning_rate': 0.05}\n",
      "Time take by model  GradientBoosting Classifier executed in: 7.50 minutes\n",
      "======================================================================================================================================================\n",
      "\n",
      "\n",
      "                             Accuracy  Precision    Recall  F1 Score  \\\n",
      "Logistic Regression          0.465477   0.101364  0.887113  0.181939   \n",
      "GradientBoosting Classifier  0.708625   0.163183  0.811189  0.271708   \n",
      "\n",
      "                             roc_score  \\\n",
      "Logistic Regression           0.661155   \n",
      "GradientBoosting Classifier   0.756224   \n",
      "\n",
      "                                                                  best_params_  \\\n",
      "Logistic Regression          {'solver': 'liblinear', 'penalty': 'l1', 'max_...   \n",
      "GradientBoosting Classifier  {'subsample': 0.8, 'n_estimators': 100, 'min_s...   \n",
      "\n",
      "                                                                  fitted_model  \\\n",
      "Logistic Regression          LogisticRegression(C=10, max_iter=1000, penalt...   \n",
      "GradientBoosting Classifier  ([DecisionTreeRegressor(criterion='friedman_ms...   \n",
      "\n",
      "                                                           input_for_signature  \n",
      "Logistic Regression          [[-0.02095823615691226, 0.8605369464834299, -0...  \n",
      "GradientBoosting Classifier          RVLV_UTLZ_UNSEC_LINES  AGE  NUM_TIMES_...  \n"
     ]
    }
   ],
   "source": [
    "## COntender for tuning\n",
    "#                            Accuracy  Precision    Recall  F1 Score\n",
    "# AdaBoost Classifier          0.789150   0.193875  0.679820  0.301707\n",
    "# Logistic Regression          0.774859   0.181303  0.671329  0.285502\n",
    "# GradientBoosting Classifier  0.865089   0.266621  0.578921  0.365097\n",
    "# SGD Classifier               0.874494   0.282262  0.565934  0.376662\n",
    "\n",
    "from sklearn.metrics import roc_auc_score,roc_curve\n",
    "from sklearn.experimental import enable_halving_search_cv # noqa\n",
    "from sklearn.model_selection import HalvingRandomSearchCV\n",
    "\n",
    "hyper_models = {\n",
    "    \n",
    "    #\"SGD Classifier\": SGDClassifier(),\n",
    "    \"Logistic Regression\": LogisticRegression(),\n",
    "    \"GradientBoosting Classifier\": GradientBoostingClassifier(),\n",
    "    #\"AdaBoost Classifier\": AdaBoostClassifier(),\n",
    "\n",
    "}\n",
    "\n",
    "\n",
    "\n",
    "AdaBoost_param_grid = {\n",
    "    'n_estimators': [50, 100, 200],\n",
    "    'learning_rate': [0.01, 0.1, 0.5, 1.0]\n",
    "}\n",
    "\n",
    "logreg_param_grid = {\n",
    "    'C': [0.01, 0.1, 1, 10, 100],\n",
    "    'penalty': ['l1', 'l2'], \n",
    "    'class_weight': [None, 'balanced'],\n",
    "    'max_iter': [ 300, 500, 1000],\n",
    "    'solver': ['liblinear']  # 'saga' supports elasticnet\n",
    "}\n",
    "\n",
    "gbc_param_grid = {\n",
    "    'n_estimators': [100, 200],\n",
    "    'learning_rate': [0.05, 0.1, 0.2],\n",
    "    'max_depth': [3, 4],\n",
    "    'subsample': [0.8, 1.0],\n",
    "    'min_samples_split': [2, 5]\n",
    "}\n",
    "sgd_param_grid = {\n",
    "    'loss': ['hinge', 'log', 'modified_huber'],\n",
    "    'penalty': ['l2', 'l1', 'elasticnet'],\n",
    "    'alpha': [0.0001, 0.001, 0.01],\n",
    "    'learning_rate': ['constant', 'optimal', 'invscaling', 'adaptive'],\n",
    "    'eta0': [0.01, 0.1, 0.5]\n",
    "}\n",
    "\n",
    "\n",
    "\n",
    "params = {\n",
    "    #\"AdaBoost Classifier\": AdaBoost_param_grid,\n",
    "    \"Logistic Regression\": logreg_param_grid,\n",
    "    \"GradientBoosting Classifier\": gbc_param_grid,\n",
    "    #\"SGD Classifier\": sgd_param_grid\n",
    "}\n",
    "\n",
    "from sklearn.model_selection import RandomizedSearchCV\n",
    "\n",
    "# Tuning models\n",
    "tuned_results = {}\n",
    "\n",
    "for name, model in hyper_models.items():\n",
    "\n",
    "    print(f\"Hyperparam Tuning for: {name}\")\n",
    "    start_time = time.perf_counter()\n",
    "\n",
    "    model_hyper = models[name]\n",
    "    param_grid = params[name]\n",
    "\n",
    "    # rs = RandomizedSearchCV(estimator=model_hyper,\n",
    "    #                 param_distributions=param_grid,\n",
    "    #                 n_iter=20,\n",
    "    #                 n_jobs=-1,\n",
    "    #                 cv=3,\n",
    "    #                 verbose=3)\n",
    "\n",
    "    ##Replace RandomizedSearchCV with HalvingRandomSearchCV for performance\n",
    "    rs = HalvingRandomSearchCV(estimator=model_hyper,\n",
    "                           param_distributions=param_grid,\n",
    "                           factor=3, # or 2, controls how aggressively candidates are pruned\n",
    "                           min_resources='exhaust', # or a specific number\n",
    "                           n_candidates=20,\n",
    "                           n_jobs=-1,\n",
    "                           cv=3,\n",
    "                           verbose=3,\n",
    "                           random_state=42)\n",
    "\n",
    "\n",
    "    if name in [\"Logistic Regression\",  \"SGD Classifier\"]:\n",
    "        rs.fit(X_train_scaled_res, y_train_res)\n",
    "        fitted_model = rs.best_estimator_ # Get the best fitted model from the search\n",
    "        print(f\"-------------fitted_model---------:\",fitted_model)\n",
    "        fitted_model.set_params(**rs.best_params_)\n",
    "        fitted_model.fit(X_train_scaled_res, y_train_res)\n",
    "\n",
    "        # # Get predicted probabilities for validation data\n",
    "        y_proba = fitted_model.predict_proba(X_val_scaled)[:, 1]\n",
    "\n",
    "        # Define input_example for signature inference later\n",
    "        input_for_signature = X_train_scaled_res        \n",
    "\n",
    "\n",
    "\n",
    "    elif name in [ \"GradientBoosting Classifier\", \"AdaBoost Classifier\"]:\n",
    "        rs.fit(X_train, y_train)\n",
    "        fitted_model = rs.best_estimator_ # Get the best fitted model from the search        \n",
    "        fitted_model.set_params(**rs.best_params_)\n",
    "        fitted_model.fit(X_train_res, y_train_res)\n",
    "\n",
    "        # # Get predicted probabilities for validation data\n",
    "        #y_pred = model.predict(X_val)\n",
    "        y_proba = fitted_model.predict_proba(X_val)[:, 1]\n",
    "        \n",
    "        \n",
    "        # Define input_example for signature inference later\n",
    "        input_for_signature = X_train_res\n",
    "\n",
    "    # Adjust threshold\n",
    "    threshold = 0.35\n",
    "    y_pred_adj = (y_proba > threshold).astype(int)\n",
    "\n",
    "    print (f\"{name} hyper param tuning completed\")\n",
    "\n",
    "    roc_score_val = roc_auc_score(y_val, y_pred_adj)\n",
    "\n",
    "\n",
    "    accuracy, precision, recall, f1 = evaluate_classification_model(y_val, y_pred_adj)\n",
    "    print(f\"{name} - Recall: {recall:.4f}, F1 Score: {f1:.4f},  Accuracy: {accuracy:.4f}, Precision: {precision:.4f}, roc_score: {roc_score_val:.4f}\")\n",
    "    print('---'*20)\n",
    "    print(f\"{name} - best_params_: {rs.best_params_}\")\n",
    "\n",
    "    tuned_results[name] = {\n",
    "        \"Accuracy\": accuracy,\n",
    "        \"Precision\": precision,\n",
    "        \"Recall\": recall,\n",
    "        \"F1 Score\": f1,\n",
    "        \"roc_score\": roc_score_val,\n",
    "        \"best_params_\": rs.best_params_,\n",
    "        \"fitted_model\": fitted_model, # Store the actual fitted model\n",
    "        \"input_for_signature\": input_for_signature # Store the appropriate input for signature\n",
    " \n",
    "    }\n",
    "    end_time = time.perf_counter()\n",
    "\n",
    "    elapsed_time = (end_time - start_time)/60\n",
    "\n",
    "    print(f\"Time take by model  {name} executed in: {elapsed_time:.2f} minutes\")\n",
    "\n",
    "    print('=='*75)\n",
    "    print('\\n')\n",
    "\n",
    "    \n",
    "df_results1 = pd.DataFrame.from_dict(tuned_results,orient='index')\n",
    "\n",
    "df_results_sorted1 = df_results1.sort_values(by='Recall', ascending=False)\n",
    "\n",
    "print (df_results_sorted1)\n",
    "\n",
    "\n"
   ]
  },
  {
   "cell_type": "code",
   "execution_count": 45,
   "id": "2410193f",
   "metadata": {},
   "outputs": [
    {
     "name": "stderr",
     "output_type": "stream",
     "text": [
      "2025/10/16 21:36:57 INFO mlflow.bedrock: Enabled auto-tracing for Bedrock. Note that MLflow can only trace boto3 service clients that are created after this call. If you have already created one, please recreate the client by calling `boto3.client`.\n",
      "2025/10/16 21:36:57 INFO mlflow.tracking.fluent: Autologging successfully enabled for boto3.\n",
      "2025/10/16 21:36:57 INFO mlflow.tracking.fluent: Autologging successfully enabled for sklearn.\n",
      "2025/10/16 21:36:57 INFO mlflow.tracking.fluent: Autologging successfully enabled for statsmodels.\n",
      "2025/10/16 21:36:57 INFO mlflow.tracking.fluent: Autologging successfully enabled for xgboost.\n",
      "2025/10/16 21:36:57 WARNING mlflow.models.model: `artifact_path` is deprecated. Please use `name` instead.\n"
     ]
    },
    {
     "name": "stdout",
     "output_type": "stream",
     "text": [
      "Logging hyperparam tuning for : Logistic Regression\n"
     ]
    },
    {
     "data": {
      "application/vnd.jupyter.widget-view+json": {
       "model_id": "e6381b1d150d4af2ac475d934666c713",
       "version_major": 2,
       "version_minor": 0
      },
      "text/plain": [
       "Downloading artifacts:   0%|          | 0/7 [00:00<?, ?it/s]"
      ]
     },
     "metadata": {},
     "output_type": "display_data"
    },
    {
     "name": "stderr",
     "output_type": "stream",
     "text": [
      "Registered model 'Credit Risk Prediction Logistic Regression' already exists. Creating a new version of this model...\n",
      "2025/10/16 21:37:27 INFO mlflow.store.model_registry.abstract_store: Waiting up to 300 seconds for model version to finish creation. Model name: Credit Risk Prediction Logistic Regression, version 2\n",
      "Created version '2' of model 'Credit Risk Prediction Logistic Regression'.\n"
     ]
    },
    {
     "name": "stdout",
     "output_type": "stream",
     "text": [
      "🏃 View run useful-robin-580 at: http://127.0.0.1:5000/#/experiments/900997911555713321/runs/822dfcb84cbd470882f7c8d8cee3c494\n",
      "🧪 View experiment at: http://127.0.0.1:5000/#/experiments/900997911555713321\n",
      "Logging hyperparam tuning for : GradientBoosting Classifier\n"
     ]
    },
    {
     "name": "stderr",
     "output_type": "stream",
     "text": [
      "2025/10/16 21:37:35 WARNING mlflow.models.model: `artifact_path` is deprecated. Please use `name` instead.\n"
     ]
    },
    {
     "data": {
      "application/vnd.jupyter.widget-view+json": {
       "model_id": "6a60cf29e5844b0594a25d92a3bf0cf5",
       "version_major": 2,
       "version_minor": 0
      },
      "text/plain": [
       "Downloading artifacts:   0%|          | 0/7 [00:00<?, ?it/s]"
      ]
     },
     "metadata": {},
     "output_type": "display_data"
    },
    {
     "name": "stderr",
     "output_type": "stream",
     "text": [
      "Registered model 'Credit Risk Prediction GradientBoosting Classifier' already exists. Creating a new version of this model...\n",
      "2025/10/16 21:38:06 INFO mlflow.store.model_registry.abstract_store: Waiting up to 300 seconds for model version to finish creation. Model name: Credit Risk Prediction GradientBoosting Classifier, version 2\n",
      "Created version '2' of model 'Credit Risk Prediction GradientBoosting Classifier'.\n"
     ]
    },
    {
     "name": "stdout",
     "output_type": "stream",
     "text": [
      "🏃 View run overjoyed-snipe-24 at: http://127.0.0.1:5000/#/experiments/900997911555713321/runs/04a7c5c4ffcc4205b3f4a8181f269b6a\n",
      "🧪 View experiment at: http://127.0.0.1:5000/#/experiments/900997911555713321\n"
     ]
    }
   ],
   "source": [
    "##ML flow tracking for hyperparameter tuning\n",
    "\n",
    "\n",
    "mlflow.set_tracking_uri(uri=\"http://127.0.0.1:5000\")\n",
    "\n",
    "mlflow.set_experiment(experiment_name=\"Credit Risk Prediction\")\n",
    "\n",
    "mlflow.autolog()\n",
    "\n",
    "with mlflow.start_run():\n",
    "    for name, result_data in tuned_results.items():\n",
    "        print(f\"Logging hyperparam tuning for : {name}\")\n",
    "\n",
    "        fitted_model = result_data['fitted_model']\n",
    "        best_params = result_data['best_params_']\n",
    "        input_for_signature = result_data['input_for_signature']\n",
    "\n",
    "        mlflow.log_param(\"model_name\", name)\n",
    "        mlflow.log_param(\"model\", fitted_model)\n",
    "        mlflow.log_params(best_params)\n",
    "        mlflow.log_param(\"Recall\", result_data['Recall'])\n",
    "        mlflow.log_param(\"Precision\", result_data['Precision'])\n",
    "        mlflow.log_metric(\"F1 Score\", result_data['F1 Score'])\n",
    "        mlflow.log_metric(\"Accuracy\", result_data['Accuracy']) # Log accuracy\n",
    "        mlflow.log_metric(\"ROC_AUC_Score\", result_data['roc_score']) # Log ROC AUC score\n",
    "\n",
    "\n",
    "        ##infer the model signature\n",
    "        signature = infer_signature(input_for_signature, fitted_model.predict(input_for_signature))\n",
    "\n",
    "        model_info = mlflow.sklearn.log_model(\n",
    "            sk_model=fitted_model, \n",
    "            artifact_path= \"model\", \n",
    "            signature=signature,\n",
    "            input_example=input_for_signature,\n",
    "            registered_model_name=f\"Credit Risk Prediction {name}\"\n",
    "        )\n",
    "\n",
    "\n",
    "        mlflow.end_run()\n"
   ]
  },
  {
   "cell_type": "markdown",
   "id": "ec9698a8",
   "metadata": {},
   "source": [
    "Best hyperparameters <br>\n",
    "\n",
    "Hyperparam Tuning for: GradientBoosting Classifier<br>\n",
    "Fitting 3 folds for each of 20 candidates, totalling 60 fits<br>\n",
    "GradientBoosting Classifier hyper param tuning completed<br>\n",
    "GradientBoosting Classifier - Recall: 0.7478, F1 Score: 0.3083,  Accuracy: 0.7752, Precision: 0.1942<br><br>\n",
    "\n",
    "Logistic Regression - best_params_: {'solver': 'liblinear', 'penalty': 'l1', 'max_iter': 300, 'class_weight': None, 'C': 100}\n",
    "\n",
    "\n",
    "Hyperparam Tuning for: Logistic Regression<br>\n",
    "Fitting 3 folds for each of 20 candidates, totalling 60 fits<br>\n",
    "Logistic Regression hyper param tuning completed<br>\n",
    "Logistic Regression - Recall: 0.8871, F1 Score: 0.1819,  Accuracy: 0.4655, Precision: 0.1014<br>\n",
    "\n",
    "GradientBoosting Classifier - best_params_: {'subsample': 0.8, 'n_estimators': 100, 'min_samples_split': 5, 'max_depth': 3, 'learning_rate': 0.05}\n",
    "Time take by model  GradientBoosting Classifier executed in: 9.80 minutes\n"
   ]
  },
  {
   "cell_type": "code",
   "execution_count": 46,
   "id": "7d63cff8",
   "metadata": {},
   "outputs": [
    {
     "name": "stdout",
     "output_type": "stream",
     "text": [
      "                             Accuracy  Precision    Recall  F1 Score  \\\n",
      "Logistic Regression          0.465477   0.101364  0.887113  0.181939   \n",
      "GradientBoosting Classifier  0.708625   0.163183  0.811189  0.271708   \n",
      "\n",
      "                             roc_score  \\\n",
      "Logistic Regression           0.661155   \n",
      "GradientBoosting Classifier   0.756224   \n",
      "\n",
      "                                                                  best_params_  \\\n",
      "Logistic Regression          {'solver': 'liblinear', 'penalty': 'l1', 'max_...   \n",
      "GradientBoosting Classifier  {'subsample': 0.8, 'n_estimators': 100, 'min_s...   \n",
      "\n",
      "                                                                  fitted_model  \\\n",
      "Logistic Regression          LogisticRegression(C=10, max_iter=1000, penalt...   \n",
      "GradientBoosting Classifier  ([DecisionTreeRegressor(criterion='friedman_ms...   \n",
      "\n",
      "                                                           input_for_signature  \n",
      "Logistic Regression          [[-0.02095823615691226, 0.8605369464834299, -0...  \n",
      "GradientBoosting Classifier          RVLV_UTLZ_UNSEC_LINES  AGE  NUM_TIMES_...  \n"
     ]
    }
   ],
   "source": [
    "df_results1 = pd.DataFrame.from_dict(tuned_results,orient='index')\n",
    "\n",
    "df_results_sorted1 = df_results1.sort_values(by='Recall', ascending=False)\n",
    "\n",
    "print (df_results_sorted1)"
   ]
  },
  {
   "cell_type": "code",
   "execution_count": 47,
   "id": "e921d007",
   "metadata": {},
   "outputs": [
    {
     "name": "stdout",
     "output_type": "stream",
     "text": [
      "{'Accuracy': 0.7086247866394457, 'Precision': 0.16318327974276528, 'Recall': 0.8111888111888111, 'F1 Score': 0.27170821482349006, 'roc_score': np.float64(0.7562239568373657), 'best_params_': {'subsample': 0.8, 'n_estimators': 100, 'min_samples_split': 5, 'max_depth': 3, 'learning_rate': 0.05}, 'fitted_model': GradientBoostingClassifier(learning_rate=0.05, min_samples_split=5,\n",
      "                           subsample=0.8), 'input_for_signature':         RVLV_UTLZ_UNSEC_LINES  AGE  NUM_TIMES_PAST_DUE_IN_30_59_DAYS  \\\n",
      "0                    0.628651   65                                 0   \n",
      "1                    0.011567   80                                 0   \n",
      "2                    0.131268   79                                 0   \n",
      "3                    1.000000   27                                 0   \n",
      "4                    0.115464   67                                 0   \n",
      "...                       ...  ...                               ...   \n",
      "223005               0.573632   35                                 1   \n",
      "223006               0.207508   46                                 0   \n",
      "223007               0.938146   54                                 3   \n",
      "223008               1.000000   41                                 0   \n",
      "223009               0.586787   64                                 0   \n",
      "\n",
      "         DEBT_RATIO  MNTHLY_INCOME  NUM_TIMES_OPEN_CRDT_LINES_LOANS  \\\n",
      "0       1827.000000         5400.0                                9   \n",
      "1          1.704319          300.0                               10   \n",
      "2          0.343137         8363.0                                5   \n",
      "3          0.189684         3605.0                                5   \n",
      "4          0.360104         3062.0                               15   \n",
      "...             ...            ...                              ...   \n",
      "223005  2329.498506         5400.0                               12   \n",
      "223006     0.555326         8400.0                               13   \n",
      "223007     0.315438         7500.0                               10   \n",
      "223008     0.000000         5400.0                                0   \n",
      "223009     0.268499         1100.0                                5   \n",
      "\n",
      "        NUM_TIMES_90_DAYS_LATE  NUM_TIMES_REAL_ESTATE_LOAN_LINES  \\\n",
      "0                            0                                 0   \n",
      "1                            0                                 0   \n",
      "2                            0                                 2   \n",
      "3                            0                                 0   \n",
      "4                            0                                 1   \n",
      "...                        ...                               ...   \n",
      "223005                       0                                 1   \n",
      "223006                       0                                 2   \n",
      "223007                       0                                 0   \n",
      "223008                       0                                 0   \n",
      "223009                       1                                 0   \n",
      "\n",
      "        NUM_TIMES_60_59_DAYS_PAST_DUE  NUM_DEPEDENTS  \n",
      "0                                   0       0.000000  \n",
      "1                                   0       0.000000  \n",
      "2                                   0       0.000000  \n",
      "3                                   0       0.000000  \n",
      "4                                   0       0.000000  \n",
      "...                               ...            ...  \n",
      "223005                              0       1.994023  \n",
      "223006                              0       1.389915  \n",
      "223007                              0       0.000000  \n",
      "223008                              0       0.000000  \n",
      "223009                              0       1.972233  \n",
      "\n",
      "[223010 rows x 10 columns]}\n"
     ]
    }
   ],
   "source": [
    "print(tuned_results['GradientBoosting Classifier'])"
   ]
  },
  {
   "cell_type": "code",
   "execution_count": 48,
   "id": "f6b62929",
   "metadata": {},
   "outputs": [
    {
     "name": "stdout",
     "output_type": "stream",
     "text": [
      "ROC-AUC: 0.8335, PR-AUC: 0.3378\n"
     ]
    }
   ],
   "source": [
    "from sklearn.metrics import roc_auc_score, average_precision_score\n",
    "\n",
    "roc_auc = roc_auc_score(y_val, y_proba)\n",
    "pr_auc = average_precision_score(y_val, y_proba)\n",
    "\n",
    "print(f\"ROC-AUC: {roc_auc:.4f}, PR-AUC: {pr_auc:.4f}\")"
   ]
  },
  {
   "cell_type": "markdown",
   "id": "e7825753",
   "metadata": {},
   "source": [
    "## Create genric ROC AUC Curve template"
   ]
  },
  {
   "cell_type": "code",
   "execution_count": 49,
   "id": "03fb5527",
   "metadata": {},
   "outputs": [
    {
     "name": "stderr",
     "output_type": "stream",
     "text": [
      "2025/10/16 21:43:32 INFO mlflow.utils.autologging_utils: Created MLflow autologging run with ID 'f7f18ee48fb54ecba6cedeabf2192997', which will track hyperparameters, performance metrics, model artifacts, and lineage information for the current sklearn workflow\n",
      "2025/10/16 21:43:32 WARNING mlflow.sklearn: Failed to log training dataset information to MLflow Tracking. Reason: 'Series' object has no attribute 'flatten'\n"
     ]
    },
    {
     "name": "stdout",
     "output_type": "stream",
     "text": [
      "🏃 View run salty-stag-209 at: http://127.0.0.1:5000/#/experiments/900997911555713321/runs/f7f18ee48fb54ecba6cedeabf2192997\n",
      "🧪 View experiment at: http://127.0.0.1:5000/#/experiments/900997911555713321\n"
     ]
    },
    {
     "name": "stderr",
     "output_type": "stream",
     "text": [
      "2025/10/16 21:43:38 INFO mlflow.utils.autologging_utils: Created MLflow autologging run with ID 'ee31e2d8d2f34f5aa923438857501595', which will track hyperparameters, performance metrics, model artifacts, and lineage information for the current sklearn workflow\n"
     ]
    },
    {
     "name": "stdout",
     "output_type": "stream",
     "text": [
      "🏃 View run fearless-shad-270 at: http://127.0.0.1:5000/#/experiments/900997911555713321/runs/ee31e2d8d2f34f5aa923438857501595\n",
      "🧪 View experiment at: http://127.0.0.1:5000/#/experiments/900997911555713321\n"
     ]
    },
    {
     "data": {
      "image/png": "[encoded data removed]",
      "text/plain": [
       "<Figure size 800x600 with 1 Axes>"
      ]
     },
     "metadata": {},
     "output_type": "display_data"
    }
   ],
   "source": [
    "from sklearn.metrics import roc_curve, roc_auc_score\n",
    "import matplotlib.pyplot as plt\n",
    "\n",
    "plt.figure(figsize=(8,6))\n",
    "\n",
    "roc_models_to_plot = []\n",
    "\n",
    "models = [\n",
    "\n",
    "    {'label': 'Logistic Regression', \n",
    "     'model': LogisticRegression(solver='liblinear', penalty='l1', max_iter= 500, class_weight= None, C=10),\n",
    "     'auc':0.6611\n",
    "    },\n",
    "    {\n",
    "        'label': 'GradientBoosting', \n",
    "        'model': GradientBoostingClassifier(),\n",
    "        'auc':0.5691\n",
    "    }\n",
    "]\n",
    "\n",
    "\n",
    "for m in models:\n",
    "    model = m['model']\n",
    "    label = m['label']\n",
    "    auc = m['auc']\n",
    "\n",
    "    if label == 'Logistic Regression':\n",
    "        model.fit(X_train_scaled_res, y_train_res)\n",
    "        y_proba = m['model'].predict_proba(X_val_scaled)[:, 1]\n",
    "        # fpr, tpr, thresholds = roc_curve(y_val, y_proba)\n",
    "    else :\n",
    "        model.fit(X_train_res, y_train_res)\n",
    "        y_proba = m['model'].predict_proba(X_val)[:, 1]\n",
    "        \n",
    "        \n",
    "    fpr, tpr, thresholds = roc_curve(y_val, y_proba)\n",
    "    actual_auc = roc_auc_score(y_val, y_proba)\n",
    "    #plt.plot(fpr, tpr, label=f'{label} (AUC = {actual_auc:.4f})')\n",
    "\n",
    "    roc_models_to_plot.append({\n",
    "        'label': label,\n",
    "        'fpr': fpr,\n",
    "        'tpr': tpr,\n",
    "        'auc': actual_auc\n",
    "    })\n",
    "\n",
    "for m_plot in roc_models_to_plot:\n",
    "    plt.plot(m_plot['fpr'],m_plot['tpr'], label=f'{m_plot[\"label\"]} (AUC = {m_plot[\"auc\"]:.4f})')\n",
    "\n",
    "plt.plot([0, 1], [0, 1], 'r--')\n",
    "plt.xlabel('False Positive Rate')\n",
    "plt.ylabel('True Positive Rate')\n",
    "plt.title('ROC Curves')\n",
    "plt.legend(loc='lower right')\n",
    "plt.show()\n"
   ]
  },
  {
   "cell_type": "markdown",
   "id": "f4772c5a",
   "metadata": {},
   "source": [
    "GradientBoosting is better in terms of overall, recall is less  but  precision and f1 is better, so test set should be trained using gradient boosing and best params"
   ]
  },
  {
   "cell_type": "markdown",
   "id": "158d716a",
   "metadata": {},
   "source": [
    "## Test dataset traning"
   ]
  },
  {
   "cell_type": "code",
   "execution_count": 50,
   "id": "330d79df",
   "metadata": {},
   "outputs": [
    {
     "data": {
      "text/plain": [
       "SRC_DLQ_TWO_YRS                     101175\n",
       "RVLV_UTLZ_UNSEC_LINES                    0\n",
       "AGE                                      0\n",
       "NUM_TIMES_PAST_DUE_IN_30_59_DAYS         0\n",
       "DEBT_RATIO                               0\n",
       "MNTHLY_INCOME                            0\n",
       "NUM_TIMES_OPEN_CRDT_LINES_LOANS          0\n",
       "NUM_TIMES_90_DAYS_LATE                   0\n",
       "NUM_TIMES_REAL_ESTATE_LOAN_LINES         0\n",
       "NUM_TIMES_60_59_DAYS_PAST_DUE            0\n",
       "NUM_DEPEDENTS                            0\n",
       "dtype: int64"
      ]
     },
     "execution_count": 50,
     "metadata": {},
     "output_type": "execute_result"
    }
   ],
   "source": [
    "test_dataset.isnull().sum()"
   ]
  },
  {
   "cell_type": "code",
   "execution_count": 51,
   "id": "8554db58",
   "metadata": {},
   "outputs": [
    {
     "data": {
      "text/plain": [
       "np.int64(109)"
      ]
     },
     "execution_count": 51,
     "metadata": {},
     "output_type": "execute_result"
    }
   ],
   "source": [
    "test_dataset.duplicated().sum()"
   ]
  },
  {
   "cell_type": "code",
   "execution_count": 52,
   "id": "9c976801",
   "metadata": {},
   "outputs": [],
   "source": [
    "test_dataset = test_dataset.drop_duplicates(keep='first').reset_index(drop=True)"
   ]
  },
  {
   "cell_type": "code",
   "execution_count": 53,
   "id": "23b1d23d",
   "metadata": {},
   "outputs": [
    {
     "data": {
      "text/plain": [
       "np.int64(0)"
      ]
     },
     "execution_count": 53,
     "metadata": {},
     "output_type": "execute_result"
    }
   ],
   "source": [
    "test_dataset.duplicated().sum()"
   ]
  },
  {
   "cell_type": "code",
   "execution_count": 54,
   "id": "2abe9eca",
   "metadata": {},
   "outputs": [],
   "source": [
    "#test data input and output split\n",
    "\n",
    "X_test = test_dataset.drop(columns=['SRC_DLQ_TWO_YRS'], axis=1)\n",
    "y_test = test_dataset['SRC_DLQ_TWO_YRS']"
   ]
  },
  {
   "cell_type": "code",
   "execution_count": 55,
   "id": "3d7e5cb6",
   "metadata": {},
   "outputs": [
    {
     "name": "stdout",
     "output_type": "stream",
     "text": [
      "<class 'pandas.core.frame.DataFrame'>\n",
      "RangeIndex: 101066 entries, 0 to 101065\n",
      "Data columns (total 10 columns):\n",
      " #   Column                            Non-Null Count   Dtype  \n",
      "---  ------                            --------------   -----  \n",
      " 0   RVLV_UTLZ_UNSEC_LINES             101066 non-null  float64\n",
      " 1   AGE                               101066 non-null  int64  \n",
      " 2   NUM_TIMES_PAST_DUE_IN_30_59_DAYS  101066 non-null  int64  \n",
      " 3   DEBT_RATIO                        101066 non-null  float64\n",
      " 4   MNTHLY_INCOME                     101066 non-null  float64\n",
      " 5   NUM_TIMES_OPEN_CRDT_LINES_LOANS   101066 non-null  int64  \n",
      " 6   NUM_TIMES_90_DAYS_LATE            101066 non-null  int64  \n",
      " 7   NUM_TIMES_REAL_ESTATE_LOAN_LINES  101066 non-null  int64  \n",
      " 8   NUM_TIMES_60_59_DAYS_PAST_DUE     101066 non-null  int64  \n",
      " 9   NUM_DEPEDENTS                     101066 non-null  float64\n",
      "dtypes: float64(4), int64(6)\n",
      "memory usage: 7.7 MB\n"
     ]
    }
   ],
   "source": [
    "X_test.info()"
   ]
  },
  {
   "cell_type": "code",
   "execution_count": 56,
   "id": "836b9032",
   "metadata": {},
   "outputs": [
    {
     "name": "stdout",
     "output_type": "stream",
     "text": [
      "<class 'pandas.core.series.Series'>\n",
      "RangeIndex: 101066 entries, 0 to 101065\n",
      "Series name: SRC_DLQ_TWO_YRS\n",
      "Non-Null Count  Dtype \n",
      "--------------  ----- \n",
      "0 non-null      object\n",
      "dtypes: object(1)\n",
      "memory usage: 789.7+ KB\n"
     ]
    }
   ],
   "source": [
    "y_test.info()"
   ]
  },
  {
   "cell_type": "code",
   "execution_count": 57,
   "id": "9db6220e",
   "metadata": {},
   "outputs": [],
   "source": [
    "##no Feature scaling and undersamping required as gradient boosting is getting used\n",
    "\n",
    "# from imblearn.over_sampling import SMOTE ## to make model learn from minority class\n",
    "# from imblearn.under_sampling import RandomUnderSampler\n",
    "\n",
    "# smote = SMOTE(random_state=42)\n",
    "# X_test_res = smote.fit_resample(X_test)\n",
    "\n",
    "\n"
   ]
  },
  {
   "cell_type": "code",
   "execution_count": 58,
   "id": "e44480f3",
   "metadata": {},
   "outputs": [
    {
     "name": "stderr",
     "output_type": "stream",
     "text": [
      "2025/10/16 21:45:47 INFO mlflow.utils.autologging_utils: Created MLflow autologging run with ID '677861bc5b16433ebe96ac937126c7e9', which will track hyperparameters, performance metrics, model artifacts, and lineage information for the current sklearn workflow\n"
     ]
    },
    {
     "name": "stdout",
     "output_type": "stream",
     "text": [
      "🏃 View run merciful-fawn-558 at: http://127.0.0.1:5000/#/experiments/900997911555713321/runs/677861bc5b16433ebe96ac937126c7e9\n",
      "🧪 View experiment at: http://127.0.0.1:5000/#/experiments/900997911555713321\n"
     ]
    }
   ],
   "source": [
    "from sklearn.ensemble import GradientBoostingClassifier\n",
    "\n",
    "gbc = GradientBoostingClassifier(subsample= 0.8, n_estimators= 100, min_samples_split= 5, max_depth= 3, learning_rate= 0.05)\n",
    "\n",
    "gbc.fit(X_train_res, y_train_res) ## train on training dataset\n",
    "\n",
    "y_pred_on_test = gbc.predict(X_test)\n",
    "\n",
    "#to get probabilities (e.g., for a custom threshold)\n",
    "y_proba_on_test = gbc.predict_proba(X_test)[:, 1]"
   ]
  },
  {
   "cell_type": "code",
   "execution_count": 59,
   "id": "236b86f3",
   "metadata": {},
   "outputs": [
    {
     "name": "stdout",
     "output_type": "stream",
     "text": [
      "[0.59399375 0.32905246 0.09185859 ... 0.12536714 0.33462626 0.44815356]\n"
     ]
    }
   ],
   "source": [
    "print(y_proba_on_test)"
   ]
  },
  {
   "cell_type": "code",
   "execution_count": 60,
   "id": "ddc53b66",
   "metadata": {},
   "outputs": [],
   "source": [
    "# Create a copy of X_test to avoid modifying the original DataFrame directly\n",
    "X_test_with_predictions = X_test.copy()\n",
    "\n",
    "X_test_with_predictions['SRC_DLQ_TWO_YRS_PREDICTED'] = y_pred_on_test\n",
    "\n",
    "X_test_with_predictions['PREDICTED_PROBABILITY'] = y_proba_on_test"
   ]
  },
  {
   "cell_type": "code",
   "execution_count": 61,
   "id": "6df91b6c",
   "metadata": {},
   "outputs": [
    {
     "name": "stdout",
     "output_type": "stream",
     "text": [
      "<class 'pandas.core.frame.DataFrame'>\n",
      "RangeIndex: 101066 entries, 0 to 101065\n",
      "Data columns (total 12 columns):\n",
      " #   Column                            Non-Null Count   Dtype  \n",
      "---  ------                            --------------   -----  \n",
      " 0   RVLV_UTLZ_UNSEC_LINES             101066 non-null  float64\n",
      " 1   AGE                               101066 non-null  int64  \n",
      " 2   NUM_TIMES_PAST_DUE_IN_30_59_DAYS  101066 non-null  int64  \n",
      " 3   DEBT_RATIO                        101066 non-null  float64\n",
      " 4   MNTHLY_INCOME                     101066 non-null  float64\n",
      " 5   NUM_TIMES_OPEN_CRDT_LINES_LOANS   101066 non-null  int64  \n",
      " 6   NUM_TIMES_90_DAYS_LATE            101066 non-null  int64  \n",
      " 7   NUM_TIMES_REAL_ESTATE_LOAN_LINES  101066 non-null  int64  \n",
      " 8   NUM_TIMES_60_59_DAYS_PAST_DUE     101066 non-null  int64  \n",
      " 9   NUM_DEPEDENTS                     101066 non-null  float64\n",
      " 10  SRC_DLQ_TWO_YRS_PREDICTED         101066 non-null  int64  \n",
      " 11  PREDICTED_PROBABILITY             101066 non-null  float64\n",
      "dtypes: float64(5), int64(7)\n",
      "memory usage: 9.3 MB\n"
     ]
    }
   ],
   "source": [
    "# Display the head of the new DataFrame to verify\n",
    "#print(X_test_with_predictions.head())\n",
    "\n",
    "X_test_with_predictions.info()"
   ]
  },
  {
   "cell_type": "markdown",
   "id": "ee6ba574",
   "metadata": {},
   "source": [
    "## write data in snowflake table"
   ]
  },
  {
   "cell_type": "code",
   "execution_count": null,
   "id": "9ee6bad1",
   "metadata": {},
   "outputs": [
    {
     "name": "stdout",
     "output_type": "stream",
     "text": [
      "CREDIT_RISK_PREDICTION\n",
      "DEBUG: Raw result from write_pandas: (True, 1, 101066, [('snowpark_temp_stage_8zzd74cj05/file0.txt', 'LOADED', 101066, 101066, 1, 0, None, None, None, None)])\n",
      "DEBUG: Type of raw_write_result: <class 'tuple'>\n",
      "DEBUG: Length of raw_write_result: 4\n",
      "WARNING: write_pandas returned unexpected extra values: [[('snowpark_temp_stage_8zzd74cj05/file0.txt', 'LOADED', 101066, 101066, 1, 0, None, None, None, None)]]\n",
      "Number of chunks: 1\n",
      "Successfully wrote 101066 rows to Snowflake table 'CS_PREDICT'.\n"
     ]
    }
   ],
   "source": [
    "from snowflake.connector.pandas_tools import write_pandas\n",
    "\n",
    "\n",
    "snowflake_table_name = \"CS_PREDICT\"\n",
    "\n",
    "load_dotenv(dotenv_path=\"../cred.env\")\n",
    "\n",
    "database=os.getenv(\"SNOWFLAKE_DB\")\n",
    "\n",
    "print(database)\n",
    "\n",
    "\n",
    "\n",
    "\n",
    "raw_write_result = write_pandas(\n",
    "    conn,\n",
    "    X_test_with_predictions,\n",
    "    table_name = snowflake_table_name,\n",
    "    database=os.getenv('SNOWFLAKE_DB').upper(),\n",
    "    schema=os.getenv('SNOWFLAKE_SCHEMA').upper(),\n",
    "    auto_create_table=True, \n",
    "    overwrite=True \n",
    ")\n",
    "\n",
    "print(f\"DEBUG: Raw result from write_pandas: {raw_write_result}\")\n",
    "print(f\"DEBUG: Type of raw_write_result: {type(raw_write_result)}\")\n",
    "if hasattr(raw_write_result, '__len__'):\n",
    "    print(f\"DEBUG: Length of raw_write_result: {len(raw_write_result)}\")\n",
    "\n",
    "\n",
    "try:\n",
    "    success, n_chunks, n_rows, *extra_values = raw_write_result\n",
    "    if extra_values:\n",
    "        print(f\"WARNING: write_pandas returned unexpected extra values: {extra_values}\")\n",
    "except ValueError as e:\n",
    "    print(f\"ERROR: Could not unpack write_pandas result. The structure is not (success, n_chunks, n_rows, *extra_values). Error: {e}\")\n",
    "    # Re-raise or handle as appropriate if the structure is completely different\n",
    "    raise\n",
    "\n",
    "print(f\"Number of chunks: {n_chunks}\")\n",
    "\n",
    "if success:\n",
    "    print(f\"Successfully wrote {n_rows} rows to Snowflake table '{snowflake_table_name}'.\")\n",
    "else:\n",
    "    print(f\"Failed to write data to Snowflake table '{snowflake_table_name}'.\")\n",
    "    if extra_values:\n",
    "        print(f\"Additional details: {extra_values}\")\n"
   ]
  },
  {
   "cell_type": "code",
   "execution_count": 65,
   "id": "bc9d401d",
   "metadata": {},
   "outputs": [
    {
     "name": "stdout",
     "output_type": "stream",
     "text": [
      "Version: 5, Stage: None, Run ID: 9a77c40246dc4a3bbde948ed3bcd47c0\n",
      "Version: 4, Stage: None, Run ID: 822dfcb84cbd470882f7c8d8cee3c494\n",
      "Version: 3, Stage: None, Run ID: 822dfcb84cbd470882f7c8d8cee3c494\n",
      "Version: 2, Stage: None, Run ID: 04a7c5c4ffcc4205b3f4a8181f269b6a\n",
      "Version: 1, Stage: None, Run ID: 9a77c40246dc4a3bbde948ed3bcd47c0\n"
     ]
    }
   ],
   "source": [
    "from mlflow.tracking import MlflowClient\n",
    "\n",
    "client = MlflowClient()\n",
    "for mv in client.search_model_versions(\"name='Credit Risk Prediction GradientBoosting Classifier'\"):\n",
    "    print(f\"Version: {mv.version}, Stage: {mv.current_stage}, Run ID: {mv.run_id}\")"
   ]
  }
 ],
 "metadata": {
  "kernelspec": {
   "display_name": "base",
   "language": "python",
   "name": "python3"
  },
  "language_info": {
   "codemirror_mode": {
    "name": "ipython",
    "version": 3
   },
   "file_extension": ".py",
   "mimetype": "text/x-python",
   "name": "python",
   "nbconvert_exporter": "python",
   "pygments_lexer": "ipython3",
   "version": "3.13.5"
  }
 },
 "nbformat": 4,
 "nbformat_minor": 5
}
