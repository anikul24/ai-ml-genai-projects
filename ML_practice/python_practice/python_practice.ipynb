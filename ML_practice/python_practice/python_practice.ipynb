{
 "cells": [
  {
   "cell_type": "code",
   "execution_count": 9,
   "id": "0cfce68d",
   "metadata": {},
   "outputs": [
    {
     "name": "stdout",
     "output_type": "stream",
     "text": [
      "num 2 i 0\n",
      "remainder 7\n",
      "num 7 i 1\n",
      "remainder 2\n",
      "my_dict[remainder] 0 i 1\n",
      "num 11 i 2\n",
      "remainder -2\n",
      "num 15 i 3\n",
      "remainder -6\n",
      "{2: 0, 7: 1, 11: 2, 15: 3}\n"
     ]
    }
   ],
   "source": [
    "my_dict = {}\n",
    "\n",
    "nums = [2,7,11,15]\n",
    "target = 9\n",
    "ot = []\n",
    "\n",
    "\n",
    "for i, num in enumerate(nums):\n",
    "    print(\"num\",num ,\"i\",i)\n",
    "    remainder = target - num\n",
    "    print(\"remainder\",remainder)\n",
    "    if remainder in my_dict:\n",
    "        #ot.append[my_dict[remainder]]\n",
    "        print(\"my_dict[remainder]\",my_dict[remainder], \"i\",i)\n",
    "\n",
    "    my_dict[num]=i\n",
    "\n",
    "\n",
    "print(my_dict)\n",
    "\n"
   ]
  },
  {
   "cell_type": "code",
   "execution_count": null,
   "id": "4ebbcd95",
   "metadata": {},
   "outputs": [
    {
     "name": "stdout",
     "output_type": "stream",
     "text": [
      "[3, 4, 2]\n",
      "[4, 6, 5]\n",
      "<class 'str'> 342\n",
      "465\n"
     ]
    }
   ],
   "source": [
    "l1 = [2,4,3]\n",
    "l2 = [5,6,4]\n",
    "\n",
    "\n",
    "l1_rev = l1[::-1]\n",
    "l2_rev = l2[::-1]\n",
    "\n",
    "print(l1_rev)\n",
    "print(l2_rev)\n",
    "\n",
    "\n",
    "#convert list to integer number\n",
    "\n",
    "l1_n= \"\".join(map(str,l1_rev))\n",
    "l2_n= \"\".join(map(str,l2_rev))\n",
    "\n",
    "\n",
    "\n",
    "print(type(l1_n),l1_n)\n",
    "print(l2_n)\n",
    "\n"
   ]
  }
 ],
 "metadata": {
  "kernelspec": {
   "display_name": "base",
   "language": "python",
   "name": "python3"
  },
  "language_info": {
   "codemirror_mode": {
    "name": "ipython",
    "version": 3
   },
   "file_extension": ".py",
   "mimetype": "text/x-python",
   "name": "python",
   "nbconvert_exporter": "python",
   "pygments_lexer": "ipython3",
   "version": "3.13.5"
  }
 },
 "nbformat": 4,
 "nbformat_minor": 5
}
