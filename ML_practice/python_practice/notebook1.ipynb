{
 "cells": [
  {
   "cell_type": "code",
   "execution_count": 1,
   "id": "cfc8d120",
   "metadata": {},
   "outputs": [
    {
     "name": "stdout",
     "output_type": "stream",
     "text": [
      "['e', 'e', 'a', 'i', 'e', 'A', 'I']\n"
     ]
    }
   ],
   "source": [
    "import re\n",
    "\n",
    "print(re.findall(r'[aeiouAEIOU]','Generative AI'))"
   ]
  },
  {
   "cell_type": "code",
   "execution_count": 2,
   "id": "e4252255",
   "metadata": {},
   "outputs": [
    {
     "name": "stdout",
     "output_type": "stream",
     "text": [
      "{'latitude': 35.0, 'longitude': 139.0, 'generationtime_ms': 0.06079673767089844, 'utc_offset_seconds': 0, 'timezone': 'GMT', 'timezone_abbreviation': 'GMT', 'elevation': 234.0, 'hourly_units': {'time': 'iso8601', 'temperature_2m': '°C'}, 'hourly': {'time': ['2025-10-19T00:00', '2025-10-19T01:00', '2025-10-19T02:00', '2025-10-19T03:00', '2025-10-19T04:00', '2025-10-19T05:00', '2025-10-19T06:00', '2025-10-19T07:00', '2025-10-19T08:00', '2025-10-19T09:00', '2025-10-19T10:00', '2025-10-19T11:00', '2025-10-19T12:00', '2025-10-19T13:00', '2025-10-19T14:00', '2025-10-19T15:00', '2025-10-19T16:00', '2025-10-19T17:00', '2025-10-19T18:00', '2025-10-19T19:00', '2025-10-19T20:00', '2025-10-19T21:00', '2025-10-19T22:00', '2025-10-19T23:00', '2025-10-20T00:00', '2025-10-20T01:00', '2025-10-20T02:00', '2025-10-20T03:00', '2025-10-20T04:00', '2025-10-20T05:00', '2025-10-20T06:00', '2025-10-20T07:00', '2025-10-20T08:00', '2025-10-20T09:00', '2025-10-20T10:00', '2025-10-20T11:00', '2025-10-20T12:00', '2025-10-20T13:00', '2025-10-20T14:00', '2025-10-20T15:00', '2025-10-20T16:00', '2025-10-20T17:00', '2025-10-20T18:00', '2025-10-20T19:00', '2025-10-20T20:00', '2025-10-20T21:00', '2025-10-20T22:00', '2025-10-20T23:00', '2025-10-21T00:00', '2025-10-21T01:00', '2025-10-21T02:00', '2025-10-21T03:00', '2025-10-21T04:00', '2025-10-21T05:00', '2025-10-21T06:00', '2025-10-21T07:00', '2025-10-21T08:00', '2025-10-21T09:00', '2025-10-21T10:00', '2025-10-21T11:00', '2025-10-21T12:00', '2025-10-21T13:00', '2025-10-21T14:00', '2025-10-21T15:00', '2025-10-21T16:00', '2025-10-21T17:00', '2025-10-21T18:00', '2025-10-21T19:00', '2025-10-21T20:00', '2025-10-21T21:00', '2025-10-21T22:00', '2025-10-21T23:00', '2025-10-22T00:00', '2025-10-22T01:00', '2025-10-22T02:00', '2025-10-22T03:00', '2025-10-22T04:00', '2025-10-22T05:00', '2025-10-22T06:00', '2025-10-22T07:00', '2025-10-22T08:00', '2025-10-22T09:00', '2025-10-22T10:00', '2025-10-22T11:00', '2025-10-22T12:00', '2025-10-22T13:00', '2025-10-22T14:00', '2025-10-22T15:00', '2025-10-22T16:00', '2025-10-22T17:00', '2025-10-22T18:00', '2025-10-22T19:00', '2025-10-22T20:00', '2025-10-22T21:00', '2025-10-22T22:00', '2025-10-22T23:00', '2025-10-23T00:00', '2025-10-23T01:00', '2025-10-23T02:00', '2025-10-23T03:00', '2025-10-23T04:00', '2025-10-23T05:00', '2025-10-23T06:00', '2025-10-23T07:00', '2025-10-23T08:00', '2025-10-23T09:00', '2025-10-23T10:00', '2025-10-23T11:00', '2025-10-23T12:00', '2025-10-23T13:00', '2025-10-23T14:00', '2025-10-23T15:00', '2025-10-23T16:00', '2025-10-23T17:00', '2025-10-23T18:00', '2025-10-23T19:00', '2025-10-23T20:00', '2025-10-23T21:00', '2025-10-23T22:00', '2025-10-23T23:00', '2025-10-24T00:00', '2025-10-24T01:00', '2025-10-24T02:00', '2025-10-24T03:00', '2025-10-24T04:00', '2025-10-24T05:00', '2025-10-24T06:00', '2025-10-24T07:00', '2025-10-24T08:00', '2025-10-24T09:00', '2025-10-24T10:00', '2025-10-24T11:00', '2025-10-24T12:00', '2025-10-24T13:00', '2025-10-24T14:00', '2025-10-24T15:00', '2025-10-24T16:00', '2025-10-24T17:00', '2025-10-24T18:00', '2025-10-24T19:00', '2025-10-24T20:00', '2025-10-24T21:00', '2025-10-24T22:00', '2025-10-24T23:00', '2025-10-25T00:00', '2025-10-25T01:00', '2025-10-25T02:00', '2025-10-25T03:00', '2025-10-25T04:00', '2025-10-25T05:00', '2025-10-25T06:00', '2025-10-25T07:00', '2025-10-25T08:00', '2025-10-25T09:00', '2025-10-25T10:00', '2025-10-25T11:00', '2025-10-25T12:00', '2025-10-25T13:00', '2025-10-25T14:00', '2025-10-25T15:00', '2025-10-25T16:00', '2025-10-25T17:00', '2025-10-25T18:00', '2025-10-25T19:00', '2025-10-25T20:00', '2025-10-25T21:00', '2025-10-25T22:00', '2025-10-25T23:00'], 'temperature_2m': [20.7, 20.7, 19.8, 20.4, 20.9, 20.9, 20.1, 19.8, 19.6, 18.1, 17.5, 16.4, 15.9, 15.8, 15.6, 15.9, 15.9, 15.7, 15.6, 15.3, 15.2, 15.2, 15.4, 15.9, 16.5, 17.0, 17.5, 17.4, 17.1, 17.3, 17.1, 17.0, 16.8, 16.7, 16.5, 16.5, 16.4, 16.4, 16.4, 16.4, 16.5, 16.4, 16.3, 15.9, 15.1, 14.7, 14.8, 14.8, 15.1, 15.2, 15.2, 15.5, 15.2, 15.5, 15.1, 15.2, 15.0, 15.1, 14.9, 14.8, 14.6, 13.4, 12.9, 13.9, 14.1, 12.6, 12.5, 12.9, 12.4, 11.1, 10.6, 10.2, 10.3, 10.4, 10.6, 10.6, 10.6, 10.6, 10.5, 10.3, 10.0, 10.1, 10.1, 10.6, 10.9, 11.1, 11.6, 12.1, 12.5, 12.7, 12.9, 13.4, 13.4, 13.4, 13.5, 13.7, 14.3, 14.8, 15.5, 16.0, 16.4, 16.6, 16.6, 16.2, 15.4, 14.8, 14.4, 14.2, 13.9, 13.7, 13.5, 13.4, 13.4, 13.3, 13.3, 13.2, 13.1, 13.2, 13.7, 14.5, 15.3, 16.0, 16.7, 17.2, 17.5, 17.6, 17.4, 16.8, 15.9, 15.2, 14.8, 14.7, 14.5, 14.2, 13.8, 13.6, 13.4, 13.3, 13.2, 12.6, 12.5, 12.8, 13.7, 15.1, 16.3, 17.1, 17.8, 18.3, 18.3, 18.1, 17.8, 17.3, 16.7, 16.2, 16.0, 15.9, 15.9, 15.8, 15.9, 15.8, 15.7, 15.6, 15.5, 15.5, 15.5, 15.8, 16.3, 17.1]}}\n"
     ]
    }
   ],
   "source": [
    "import requests\n",
    "\n",
    "response = requests.get('https://api.open-meteo.com/v1/forecast?latitude=35&longitude=139&hourly=temperature_2m')\n",
    "data = response.json()\n",
    "print(data)"
   ]
  },
  {
   "cell_type": "code",
   "execution_count": 3,
   "id": "2d8eb1a0",
   "metadata": {},
   "outputs": [
    {
     "name": "stdout",
     "output_type": "stream",
     "text": [
      "0    2.8\n",
      "1    1.6\n",
      "2    1.6\n",
      "Name: 0.2, dtype: float64\n"
     ]
    }
   ],
   "source": [
    "import pandas as pd\n",
    "\n",
    "data = [[1, 1, 2], [6, 4, 2], [4, 2, 1], [4, 2, 3]]\n",
    "\n",
    "df = pd.DataFrame(data)\n",
    "\n",
    "print(df.quantile(0.2))"
   ]
  },
  {
   "cell_type": "markdown",
   "id": "f4087a8b",
   "metadata": {},
   "source": [
    "Open Ai chat connection"
   ]
  },
  {
   "cell_type": "code",
   "execution_count": 11,
   "id": "983a1f58",
   "metadata": {},
   "outputs": [
    {
     "name": "stdout",
     "output_type": "stream",
     "text": [
      "{'id': 'chatcmpl-CTEOhfIqYQnVS4ViMXd4iDjsSPcZh', 'object': 'chat.completion', 'created': 1761082891, 'model': 'gpt-4o-mini-2024-07-18', 'choices': [{'index': 0, 'message': {'role': 'assistant', 'content': 'Hello! How can I assist you today?', 'refusal': None, 'annotations': []}, 'logprobs': None, 'finish_reason': 'stop'}], 'usage': {'prompt_tokens': 9, 'completion_tokens': 9, 'total_tokens': 18, 'prompt_tokens_details': {'cached_tokens': 0, 'audio_tokens': 0}, 'completion_tokens_details': {'reasoning_tokens': 0, 'audio_tokens': 0, 'accepted_prediction_tokens': 0, 'rejected_prediction_tokens': 0}}, 'service_tier': 'default', 'system_fingerprint': 'fp_560af6e559'}\n"
     ]
    }
   ],
   "source": [
    "import requests\n",
    "from dotenv import load_dotenv\n",
    "import os\n",
    "\n",
    "load_dotenv(dotenv_path=\"../cred.env\")\n",
    "\n",
    "url = 'https://api.openai.com/v1/chat/completions'\n",
    "\n",
    "open_ai_keys = os.getenv('openai_api_keys')\n",
    "\n",
    "\n",
    "\n",
    "header = {\n",
    "    'Content-Type': 'application/json',\n",
    "    'Authorization': f'Bearer {open_ai_keys}'\n",
    "}\n",
    "\n",
    "data = {\n",
    "    'model': 'gpt-4o-mini',\n",
    "    'messages': [{'role': 'user', 'content': 'Hello!'}]\n",
    "}\n",
    "\n",
    "response = requests.post(url, headers=header, json=data)\n",
    "\n",
    "print(response.json())"
   ]
  },
  {
   "cell_type": "code",
   "execution_count": null,
   "id": "fee5994a",
   "metadata": {},
   "outputs": [],
   "source": [
    "pip install openai"
   ]
  },
  {
   "cell_type": "code",
   "execution_count": 13,
   "id": "21d4be90",
   "metadata": {},
   "outputs": [],
   "source": [
    "from openai import OpenAI\n",
    "\n",
    "client = OpenAI(api_key=open_ai_keys)\n",
    "\n",
    "\n",
    "def ask_chatgpt (prompt,temprature=0.7):\n",
    "    completion = client.chat.completions.create(\n",
    "    model=\"gpt-4o-mini\",\n",
    "    messages=[\n",
    "        {\"role\": \"system\",\"content\": \"You are a helpful assistant\" },\n",
    "        {\"role\": \"user\",\"content\": prompt }\n",
    "        \n",
    "    ]\n",
    "    )\n",
    "    temprature=temprature\n",
    "    return completion.choices[0].message.content"
   ]
  },
  {
   "cell_type": "code",
   "execution_count": null,
   "id": "fe3481dc",
   "metadata": {},
   "outputs": [
    {
     "name": "stdout",
     "output_type": "stream",
     "text": [
      "In a world where whispers swirl and twirl,  \n",
      "There dances a girl, oh Advika, the pearl.  \n",
      "With hair like a tempest, and eyes full of stars,  \n",
      "She weaves through the noise, leaving trails of bizarre.  \n",
      "\n",
      "Her laughter, a song sung in colors unknown,  \n",
      "A melody drifting from places she’s grown.  \n",
      "With pockets of wonders, she carries her dreams,  \n",
      "In the quietest corners, she crafts moonlit schemes.  \n",
      "\n",
      "She paints the sky green and the grass shades of blue,  \n",
      "Draws maps of adventures in hues fresh and new.  \n",
      "With a heart that beats wild, she speaks to the trees,  \n",
      "And waltzes with shadows that dance in the breeze.  \n",
      "\n",
      "In a tapestry woven of quirks and of grace,  \n",
      "Advika finds beauty in every odd place.  \n",
      "With sandals of mismatches and socks with no fear,  \n",
      "She struts through the day with a spirit so clear.  \n",
      "\n",
      "Some may call her strange, a riddle to solve,  \n",
      "But peel back the layers, and watch her evolve.  \n",
      "For in her weirdness lies a radiant glow,  \n",
      "A spark of pure magic that only she knows.  \n",
      "\n",
      "So here’s to Advika, the girl who’s unique,  \n",
      "With tales of the universe woven in her speak.  \n",
      "May her oddities shine, like stars in the night,  \n",
      "For the world needs her weirdness, her wonder, her light.\n"
     ]
    }
   ],
   "source": [
    "print(ask_chatgpt(\"Can you write poem about mean girl Advika\"))"
   ]
  }
 ],
 "metadata": {
  "kernelspec": {
   "display_name": "base",
   "language": "python",
   "name": "python3"
  },
  "language_info": {
   "codemirror_mode": {
    "name": "ipython",
    "version": 3
   },
   "file_extension": ".py",
   "mimetype": "text/x-python",
   "name": "python",
   "nbconvert_exporter": "python",
   "pygments_lexer": "ipython3",
   "version": "3.13.5"
  }
 },
 "nbformat": 4,
 "nbformat_minor": 5
}
