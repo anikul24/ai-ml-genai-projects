{
 "cells": [
  {
   "cell_type": "code",
   "execution_count": null,
   "id": "a50457b2",
   "metadata": {},
   "outputs": [],
   "source": [
    "from sklearn.metrics import mean_squared_error, r2_score\n",
    "from sklearn.model_selection import train_test_split, GridSearchCV,RandomizedSearchCV\n",
    "from sklearn.linear_model import LinearRegression, Lasso, Ridge\n",
    "from sklearn.neighbors import KNeighborsRegressor\n",
    "from sklearn.tree import DecisionTreeRegressor\n",
    "from catboost import CatBoostRegressor\n",
    "from sklearn.ensemble import AdaBoostRegressor\n",
    "from sklearn.ensemble import RandomForestRegressor\n",
    "\n",
    "from xgboost import XGBRegressor\n",
    "\n",
    "from sklearn.preprocessing import OneHotEncoder, StandardScaler\n",
    "from sklearn.compose import ColumnTransformer\n",
    "import pandas as pd\n",
    "import numpy as np\n",
    "import matplotlib.pyplot as plt\n",
    "import seaborn as sns\n",
    "import warnings\n",
    "warnings.filterwarnings('ignore')\n"
   ]
  },
  {
   "cell_type": "code",
   "execution_count": null,
   "id": "3925f4be",
   "metadata": {},
   "outputs": [],
   "source": [
    "dataset = pd.read_csv('data/stud.csv', sep=',')\n",
    "\n"
   ]
  },
  {
   "cell_type": "code",
   "execution_count": 5,
   "id": "c43dfcc0",
   "metadata": {},
   "outputs": [],
   "source": [
    "numeric_features = [ f for f in dataset.columns if dataset.dtypes[f] != 'object']\n",
    "\n",
    "categorial_features = [ f for f in dataset.columns if dataset.dtypes[f] == 'object']"
   ]
  },
  {
   "cell_type": "code",
   "execution_count": 6,
   "id": "829fbbb8",
   "metadata": {},
   "outputs": [],
   "source": [
    "dataset['total_score'] = dataset['math_score'] + dataset['reading_score'] + dataset['writing_score']\n",
    "\n",
    "dataset['average_score'] = dataset['total_score'] / 3"
   ]
  },
  {
   "cell_type": "code",
   "execution_count": 8,
   "id": "f9311d01",
   "metadata": {},
   "outputs": [],
   "source": [
    "X= dataset.drop('total_score', axis=1)\n",
    "y= dataset['total_score']"
   ]
  },
  {
   "cell_type": "code",
   "execution_count": 7,
   "id": "c77c08a8",
   "metadata": {},
   "outputs": [],
   "source": [
    "## satndard scaler\n",
    "\n",
    "numeric_tranformer = StandardScaler()\n",
    "categorical_transformer = OneHotEncoder(handle_unknown='ignore')\n",
    "preprocessor = ColumnTransformer(\n",
    "    transformers=[\n",
    "        ('num', numeric_tranformer, numeric_features),\n",
    "        ('cat', categorical_transformer, categorial_features)\n",
    "    ])"
   ]
  },
  {
   "cell_type": "code",
   "execution_count": 9,
   "id": "de153778",
   "metadata": {},
   "outputs": [],
   "source": [
    "X= preprocessor.fit_transform(X)"
   ]
  },
  {
   "cell_type": "code",
   "execution_count": 10,
   "id": "5910741b",
   "metadata": {},
   "outputs": [
    {
     "name": "stdout",
     "output_type": "stream",
     "text": [
      "[[ 0.39002351  0.19399858  0.39149181 ...  1.          0.\n",
      "   1.        ]\n",
      " [ 0.19207553  1.42747598  1.31326868 ...  1.          1.\n",
      "   0.        ]\n",
      " [ 1.57771141  1.77010859  1.64247471 ...  1.          0.\n",
      "   1.        ]\n",
      " ...\n",
      " [-0.46775108  0.12547206 -0.20107904 ...  0.          1.\n",
      "   0.        ]\n",
      " [ 0.12609287  0.60515772  0.58901542 ...  1.          1.\n",
      "   0.        ]\n",
      " [ 0.71993682  1.15336989  1.18158627 ...  0.          0.\n",
      "   1.        ]]\n"
     ]
    }
   ],
   "source": [
    "print(X)"
   ]
  },
  {
   "cell_type": "code",
   "execution_count": 11,
   "id": "1968b9f2",
   "metadata": {},
   "outputs": [],
   "source": [
    "## train test split\n",
    "X_train, X_test, y_train, y_test = train_test_split(X, y, test_size=0.2, random_state=42)"
   ]
  },
  {
   "cell_type": "code",
   "execution_count": 12,
   "id": "9c451d59",
   "metadata": {},
   "outputs": [
    {
     "name": "stdout",
     "output_type": "stream",
     "text": [
      "(800, 20) (200, 20) (800,) (200,)\n"
     ]
    }
   ],
   "source": [
    "print(X_train.shape, X_test.shape, y_train.shape, y_test.shape)"
   ]
  },
  {
   "cell_type": "code",
   "execution_count": null,
   "id": "6072b324",
   "metadata": {},
   "outputs": [],
   "source": [
    "##evaluation function\n",
    "def evaluate_model(true, predicted):\n",
    "    mse = mean_squared_error(true, predicted)\n",
    "    rmse = np.sqrt(mse)\n",
    "    r2 = r2_score(true, predicted)\n",
    "    return rmse, r2"
   ]
  },
  {
   "cell_type": "code",
   "execution_count": null,
   "id": "cc386d62",
   "metadata": {},
   "outputs": [],
   "source": [
    "##models\n",
    "\n",
    "models = {\n",
    "    \"Linear Regression\": LinearRegression(),\n",
    "    \"Lasso\": Lasso(),\n",
    "    \"Ridge\": Ridge(),\n",
    "    \"K-Neighbors Regressor\": KNeighborsRegressor(),\n",
    "    \"Decision Tree\": DecisionTreeRegressor(),\n",
    "    \"Random Forest Regressor\": RandomForestRegressor(),\n",
    "    \"XGBRegressor\": XGBRegressor(), \n",
    "    \"CatBoosting Regressor\": CatBoostRegressor(verbose=False),\n",
    "    \"AdaBoost Regressor\": AdaBoostRegressor()\n",
    "}\n",
    "model_list = []\n",
    "r2_list =[]"
   ]
  }
 ],
 "metadata": {
  "kernelspec": {
   "display_name": "base",
   "language": "python",
   "name": "python3"
  },
  "language_info": {
   "codemirror_mode": {
    "name": "ipython",
    "version": 3
   },
   "file_extension": ".py",
   "mimetype": "text/x-python",
   "name": "python",
   "nbconvert_exporter": "python",
   "pygments_lexer": "ipython3",
   "version": "3.13.5"
  }
 },
 "nbformat": 4,
 "nbformat_minor": 5
}
