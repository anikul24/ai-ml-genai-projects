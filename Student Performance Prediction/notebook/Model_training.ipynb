{
 "cells": [
  {
   "cell_type": "code",
   "execution_count": 130,
   "id": "a50457b2",
   "metadata": {},
   "outputs": [],
   "source": [
    "from sklearn.metrics import mean_squared_error, r2_score,mean_absolute_error\n",
    "from sklearn.model_selection import train_test_split, GridSearchCV,RandomizedSearchCV\n",
    "from sklearn.linear_model import LinearRegression, Lasso, Ridge\n",
    "from sklearn.neighbors import KNeighborsRegressor\n",
    "from sklearn.tree import DecisionTreeRegressor\n",
    "from catboost import CatBoostRegressor\n",
    "from sklearn.ensemble import AdaBoostRegressor\n",
    "from sklearn.ensemble import RandomForestRegressor\n",
    "\n",
    "from xgboost import XGBRegressor\n",
    "\n",
    "from sklearn.preprocessing import OneHotEncoder, StandardScaler\n",
    "from sklearn.compose import ColumnTransformer\n",
    "import pandas as pd\n",
    "import numpy as np\n",
    "import matplotlib.pyplot as plt\n",
    "import seaborn as sns\n",
    "import warnings\n",
    "warnings.filterwarnings('ignore')\n"
   ]
  },
  {
   "cell_type": "code",
   "execution_count": 131,
   "id": "3925f4be",
   "metadata": {},
   "outputs": [],
   "source": [
    "dataset = pd.read_csv('data/stud.csv', sep=',')\n",
    "\n"
   ]
  },
  {
   "cell_type": "code",
   "execution_count": null,
   "id": "c43dfcc0",
   "metadata": {},
   "outputs": [
    {
     "name": "stdout",
     "output_type": "stream",
     "text": [
      "Numerical features: ['math_score', 'reading_score', 'writing_score']\n",
      "Categorial features: ['gender', 'race_ethnicity', 'parental_level_of_education', 'lunch', 'test_preparation_course']\n"
     ]
    }
   ],
   "source": []
  },
  {
   "cell_type": "code",
   "execution_count": null,
   "id": "829fbbb8",
   "metadata": {},
   "outputs": [],
   "source": [
    "#dataset['total_score'] = dataset['math_score'] + dataset['reading_score'] + dataset['writing_score']\n",
    "\n",
    "#dataset['average_score'] = dataset['total_score'] / 3\n",
    "\n",
    "\n"
   ]
  },
  {
   "cell_type": "code",
   "execution_count": 132,
   "id": "9db30c60",
   "metadata": {},
   "outputs": [
    {
     "name": "stdout",
     "output_type": "stream",
     "text": [
      "<class 'pandas.core.frame.DataFrame'>\n",
      "RangeIndex: 1000 entries, 0 to 999\n",
      "Data columns (total 7 columns):\n",
      " #   Column                       Non-Null Count  Dtype \n",
      "---  ------                       --------------  ----- \n",
      " 0   gender                       1000 non-null   object\n",
      " 1   race_ethnicity               1000 non-null   object\n",
      " 2   parental_level_of_education  1000 non-null   object\n",
      " 3   lunch                        1000 non-null   object\n",
      " 4   test_preparation_course      1000 non-null   object\n",
      " 5   reading_score                1000 non-null   int64 \n",
      " 6   writing_score                1000 non-null   int64 \n",
      "dtypes: int64(2), object(5)\n",
      "memory usage: 54.8+ KB\n",
      "<class 'pandas.core.series.Series'>\n",
      "RangeIndex: 1000 entries, 0 to 999\n",
      "Series name: math_score\n",
      "Non-Null Count  Dtype\n",
      "--------------  -----\n",
      "1000 non-null   int64\n",
      "dtypes: int64(1)\n",
      "memory usage: 7.9 KB\n"
     ]
    }
   ],
   "source": [
    "# X= dataset.drop('total_score', axis=1)\n",
    "# y= dataset['total_score']\n",
    "\n",
    "X = dataset.drop(columns=['math_score'],axis=1)\n",
    "\n",
    "y = dataset['math_score']\n",
    "\n",
    "X.info()\n",
    "\n",
    "y.info()\n",
    "\n"
   ]
  },
  {
   "cell_type": "code",
   "execution_count": null,
   "id": "50d14ef6",
   "metadata": {},
   "outputs": [],
   "source": [
    "# numeric_features = [ f for f in dataset.columns if dataset.dtypes[f] != 'object']\n",
    "\n",
    "# categorial_features = [ f for f in dataset.columns if dataset.dtypes[f] == 'object']\n",
    "\n",
    "\n",
    "# print(\"Numerical features:\", numeric_features)\n",
    "# print(\"Categorial features:\", categorial_features)  "
   ]
  },
  {
   "cell_type": "code",
   "execution_count": 133,
   "id": "8aff56c8",
   "metadata": {},
   "outputs": [
    {
     "name": "stdout",
     "output_type": "stream",
     "text": [
      "Numerical features: ['reading_score', 'writing_score']\n",
      "Categorial features: ['gender', 'race_ethnicity', 'parental_level_of_education', 'lunch', 'test_preparation_course']\n"
     ]
    }
   ],
   "source": [
    "numeric_features = [ f for f in X.columns if X.dtypes[f] != 'object']\n",
    "\n",
    "categorial_features = [ f for f in X.columns if X.dtypes[f] == 'object']\n",
    "\n",
    "\n",
    "print(\"Numerical features:\", numeric_features)\n",
    "print(\"Categorial features:\", categorial_features)  "
   ]
  },
  {
   "cell_type": "code",
   "execution_count": 134,
   "id": "c77c08a8",
   "metadata": {},
   "outputs": [],
   "source": [
    "## satndard scaler\n",
    "\n",
    "numeric_tranformer = StandardScaler()\n",
    "categorical_transformer = OneHotEncoder(handle_unknown='ignore')\n",
    "preprocessor = ColumnTransformer(\n",
    "    transformers=[\n",
    "        ('num', numeric_tranformer, numeric_features),\n",
    "        ('cat', categorical_transformer, categorial_features)\n",
    "    ])"
   ]
  },
  {
   "cell_type": "code",
   "execution_count": 135,
   "id": "de153778",
   "metadata": {},
   "outputs": [],
   "source": [
    "X= preprocessor.fit_transform(X)"
   ]
  },
  {
   "cell_type": "code",
   "execution_count": 96,
   "id": "5910741b",
   "metadata": {},
   "outputs": [
    {
     "name": "stdout",
     "output_type": "stream",
     "text": [
      "[[ 0.19399858  0.39149181  1.         ...  1.          0.\n",
      "   1.        ]\n",
      " [ 1.42747598  1.31326868  1.         ...  1.          1.\n",
      "   0.        ]\n",
      " [ 1.77010859  1.64247471  1.         ...  1.          0.\n",
      "   1.        ]\n",
      " ...\n",
      " [ 0.12547206 -0.20107904  1.         ...  0.          1.\n",
      "   0.        ]\n",
      " [ 0.60515772  0.58901542  1.         ...  1.          1.\n",
      "   0.        ]\n",
      " [ 1.15336989  1.18158627  1.         ...  0.          0.\n",
      "   1.        ]]\n"
     ]
    }
   ],
   "source": [
    "print(X)"
   ]
  },
  {
   "cell_type": "code",
   "execution_count": 136,
   "id": "1968b9f2",
   "metadata": {},
   "outputs": [],
   "source": [
    "## train test split\n",
    "X_train, X_test, y_train, y_test = train_test_split(X, y, test_size=0.2, random_state=42)"
   ]
  },
  {
   "cell_type": "code",
   "execution_count": 137,
   "id": "9c451d59",
   "metadata": {},
   "outputs": [
    {
     "name": "stdout",
     "output_type": "stream",
     "text": [
      "(800, 19) (200, 19) (800,) (200,)\n"
     ]
    }
   ],
   "source": [
    "print(X_train.shape, X_test.shape, y_train.shape, y_test.shape)"
   ]
  },
  {
   "cell_type": "code",
   "execution_count": 138,
   "id": "6072b324",
   "metadata": {},
   "outputs": [],
   "source": [
    "##evaluation function\n",
    "def evaluate_model(true, predicted):\n",
    "    mse = mean_squared_error(true, predicted)\n",
    "    rmse = np.sqrt(mse)\n",
    "    r2 = r2_score(true, predicted)\n",
    "    return rmse, r2\n",
    "\n"
   ]
  },
  {
   "cell_type": "code",
   "execution_count": 144,
   "id": "cc386d62",
   "metadata": {},
   "outputs": [
    {
     "name": "stdout",
     "output_type": "stream",
     "text": [
      "<class 'dict'>\n",
      "Linear Regression:\n",
      "Train RMSE: 5.3231, Train R2: 0.8743\n",
      "Test RMSE: 5.3940, Test R2: 0.8804\n",
      "------------------------------\n",
      "Lasso:\n",
      "Train RMSE: 6.5938, Train R2: 0.8071\n",
      "Test RMSE: 6.5197, Test R2: 0.8253\n",
      "------------------------------\n",
      "Ridge:\n",
      "Train RMSE: 5.3233, Train R2: 0.8743\n",
      "Test RMSE: 5.3904, Test R2: 0.8806\n",
      "------------------------------\n",
      "K-Neighbors Regressor:\n",
      "Train RMSE: 5.7134, Train R2: 0.8552\n",
      "Test RMSE: 7.2538, Test R2: 0.7838\n",
      "------------------------------\n",
      "Decision Tree:\n",
      "Train RMSE: 0.2795, Train R2: 0.9997\n",
      "Test RMSE: 7.9009, Test R2: 0.7435\n",
      "------------------------------\n",
      "Random Forest Regressor:\n",
      "Train RMSE: 2.3192, Train R2: 0.9761\n",
      "Test RMSE: 6.0666, Test R2: 0.8488\n",
      "------------------------------\n",
      "XGBRegressor:\n",
      "Train RMSE: 1.0073, Train R2: 0.9955\n",
      "Test RMSE: 6.5958, Test R2: 0.8212\n",
      "------------------------------\n",
      "CatBoosting Regressor:\n",
      "Train RMSE: 3.0427, Train R2: 0.9589\n",
      "Test RMSE: 6.0086, Test R2: 0.8516\n",
      "------------------------------\n",
      "AdaBoost Regressor:\n",
      "Train RMSE: 5.7684, Train R2: 0.8524\n",
      "Test RMSE: 6.0403, Test R2: 0.8501\n",
      "------------------------------\n"
     ]
    }
   ],
   "source": [
    "##models)\n",
    "from sklearn.linear_model import Lasso, Ridge\n",
    "\n",
    "\n",
    "models = {\n",
    "    \"Linear Regression\": LinearRegression(),\n",
    "    \"Lasso\": Lasso(),\n",
    "    \"Ridge\": Ridge(),\n",
    "    \"K-Neighbors Regressor\": KNeighborsRegressor(),\n",
    "    \"Decision Tree\": DecisionTreeRegressor(),\n",
    "    \"Random Forest Regressor\": RandomForestRegressor(),\n",
    "    \"XGBRegressor\": XGBRegressor(), \n",
    "    \"CatBoosting Regressor\": CatBoostRegressor(verbose=False),\n",
    "    \"AdaBoost Regressor\": AdaBoostRegressor()\n",
    "}\n",
    "\n",
    "print(type(models))\n",
    "model_list = []\n",
    "r2_list =[]\n",
    "\n",
    "for model_name, model in models.items():\n",
    "    model.fit(X_train, y_train)\n",
    "    y_train_pred = model.predict(X_train)\n",
    "    y_test_pred = model.predict(X_test)\n",
    "    train_rmse, train_r2 = evaluate_model(y_train, y_train_pred)\n",
    "    test_rmse, test_r2 = evaluate_model(y_test, y_test_pred)\n",
    "    print(f\"{model_name}:\")\n",
    "    print(f\"Train RMSE: {train_rmse:.4f}, Train R2: {train_r2:.4f}\")\n",
    "    print(f\"Test RMSE: {test_rmse:.4f}, Test R2: {test_r2:.4f}\")\n",
    "    print(\"-\" * 30)\n",
    "    model_list.append(model_name)\n",
    "    r2_list.append(test_r2)\n",
    "  "
   ]
  },
  {
   "cell_type": "code",
   "execution_count": null,
   "id": "63a203e6",
   "metadata": {},
   "outputs": [],
   "source": []
  }
 ],
 "metadata": {
  "kernelspec": {
   "display_name": "base",
   "language": "python",
   "name": "python3"
  },
  "language_info": {
   "codemirror_mode": {
    "name": "ipython",
    "version": 3
   },
   "file_extension": ".py",
   "mimetype": "text/x-python",
   "name": "python",
   "nbconvert_exporter": "python",
   "pygments_lexer": "ipython3",
   "version": "3.13.5"
  }
 },
 "nbformat": 4,
 "nbformat_minor": 5
}
